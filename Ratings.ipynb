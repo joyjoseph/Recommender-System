{
 "cells": [
  {
   "cell_type": "markdown",
   "metadata": {},
   "source": [
    "### *Recommendation System*\n"
   ]
  },
  {
   "cell_type": "markdown",
   "metadata": {},
   "source": [
    "                                            Overview  \n",
    "While visiting a shopping mall, many salesmen often try to recommend the customers exciting deals and offers that might of interest them. Similarly, e-commerce sites use recommender systems to suggest products to their customers that they are highly likely to buy. \n"
   ]
  },
  {
   "cell_type": "markdown",
   "metadata": {},
   "source": [
    "                                            Problem Statement \n",
    "This project will build collaborative filtering algorithm based recommender system.\n"
   ]
  },
  {
   "cell_type": "markdown",
   "metadata": {},
   "source": [
    "                                            Data Description \n",
    "The data is contained in a csv file, named ’ratings_beauty.csv’. \n",
    "It has four types of values: user IDs, product IDs, ratings, and timestamp. \n",
    "\n",
    "* User IDs: anonymized IDs of reviewers. (Customer Identification)\n",
    "\n",
    "* Product IDs: anonymized IDs of products. (Amazon's unique product identification code for each product)\n",
    "\n",
    "* Ratings are the feedback provided by the user corresponding to a product in that row between 1-5 based on customer satisfaction.  \n",
    "\n",
    "* Timestamp represents the time at which user submitted the rating. \n",
    "\n",
    "The file has about 2 million reviews and ratings for beauty products available on Amazon.\n"
   ]
  },
  {
   "cell_type": "markdown",
   "metadata": {},
   "source": [
    "                                            Introduction\n",
    "                                        \n",
    "The Recommender systems are used by most E-commerce sites to suggest products to their customers and also  provide consumers with information to assist them on the product to purchase. The products can be recommended based on the top sellers on a site, on the demographics of the consumer, or on an analysis of the customer's past buying behavior, this helps as a way of predicting future buying patters of customers. Customer ratings are a very helpful source as it is seen to be the way out for a customer to tell you honestly how they feel about a product and this could help the business with insights to what a customer like or do not about a paticular product or service. \n",
    "\n",
    "Amazon currently makes use of the item-item collaborative filtering method, which scales through very huge datasets and then produces a high quality real time recommendation systems. This system work as an information filtering system which seeks to predict the\n",
    "\"rating\" or preferences of the user interest. \n",
    "\n",
    "Amazon depends so much on a Recommendation engine that reviews customer ratings and history of purhase to recommend items and improve sales.The Product recommendations tailored to users are likely to lead to a better and higher conversion rate. Recommended products account for about 35% of Amazon revenue (MacKenzie) .Also, users are always interested in recommendations of similar items that enable them discover new products and maybe compare items as well. "
   ]
  },
  {
   "cell_type": "code",
   "execution_count": 112,
   "metadata": {},
   "outputs": [],
   "source": [
    "# importing required libaries\n",
    "import numpy as np\n",
    "import pandas as pd\n",
    "import seaborn as sns; sns.set(style=\"ticks\", color_codes=True)\n",
    "import matplotlib.pyplot as plt\n",
    "import matplotlib.pyplot as plt\n",
    "\n",
    "%matplotlib inline\n",
    "plt.style.use(\"ggplot\")\n",
    "\n",
    "import sklearn\n",
    "from sklearn.decomposition import TruncatedSVD"
   ]
  },
  {
   "cell_type": "code",
   "execution_count": 113,
   "metadata": {},
   "outputs": [],
   "source": [
    "# loading and the datasets\n",
    "ratings_data = pd.read_csv('data/ratings_Beauty.csv.zip')"
   ]
  },
  {
   "cell_type": "markdown",
   "metadata": {},
   "source": [
    "### Exploratory Data Analysis\n",
    "\n",
    "Exploratory data analysis helps analysts to be able to represent different trends in sales graphically and then show it by visualizing the data related to the best-selling product categories, spending patterns in customers, demographics and preferences of customers, and units sold over a period of time."
   ]
  },
  {
   "cell_type": "code",
   "execution_count": 114,
   "metadata": {},
   "outputs": [
    {
     "data": {
      "text/html": [
       "<div>\n",
       "<style scoped>\n",
       "    .dataframe tbody tr th:only-of-type {\n",
       "        vertical-align: middle;\n",
       "    }\n",
       "\n",
       "    .dataframe tbody tr th {\n",
       "        vertical-align: top;\n",
       "    }\n",
       "\n",
       "    .dataframe thead th {\n",
       "        text-align: right;\n",
       "    }\n",
       "</style>\n",
       "<table border=\"1\" class=\"dataframe\">\n",
       "  <thead>\n",
       "    <tr style=\"text-align: right;\">\n",
       "      <th></th>\n",
       "      <th>UserId</th>\n",
       "      <th>ProductId</th>\n",
       "      <th>Rating</th>\n",
       "      <th>Timestamp</th>\n",
       "    </tr>\n",
       "  </thead>\n",
       "  <tbody>\n",
       "    <tr>\n",
       "      <th>0</th>\n",
       "      <td>A39HTATAQ9V7YF</td>\n",
       "      <td>0205616461</td>\n",
       "      <td>5.0</td>\n",
       "      <td>1369699200</td>\n",
       "    </tr>\n",
       "    <tr>\n",
       "      <th>1</th>\n",
       "      <td>A3JM6GV9MNOF9X</td>\n",
       "      <td>0558925278</td>\n",
       "      <td>3.0</td>\n",
       "      <td>1355443200</td>\n",
       "    </tr>\n",
       "    <tr>\n",
       "      <th>2</th>\n",
       "      <td>A1Z513UWSAAO0F</td>\n",
       "      <td>0558925278</td>\n",
       "      <td>5.0</td>\n",
       "      <td>1404691200</td>\n",
       "    </tr>\n",
       "    <tr>\n",
       "      <th>3</th>\n",
       "      <td>A1WMRR494NWEWV</td>\n",
       "      <td>0733001998</td>\n",
       "      <td>4.0</td>\n",
       "      <td>1382572800</td>\n",
       "    </tr>\n",
       "    <tr>\n",
       "      <th>4</th>\n",
       "      <td>A3IAAVS479H7M7</td>\n",
       "      <td>0737104473</td>\n",
       "      <td>1.0</td>\n",
       "      <td>1274227200</td>\n",
       "    </tr>\n",
       "  </tbody>\n",
       "</table>\n",
       "</div>"
      ],
      "text/plain": [
       "           UserId   ProductId  Rating   Timestamp\n",
       "0  A39HTATAQ9V7YF  0205616461     5.0  1369699200\n",
       "1  A3JM6GV9MNOF9X  0558925278     3.0  1355443200\n",
       "2  A1Z513UWSAAO0F  0558925278     5.0  1404691200\n",
       "3  A1WMRR494NWEWV  0733001998     4.0  1382572800\n",
       "4  A3IAAVS479H7M7  0737104473     1.0  1274227200"
      ]
     },
     "execution_count": 114,
     "metadata": {},
     "output_type": "execute_result"
    }
   ],
   "source": [
    "# vewing the dataset\n",
    "ratings_data.head()"
   ]
  },
  {
   "cell_type": "code",
   "execution_count": 115,
   "metadata": {},
   "outputs": [
    {
     "data": {
      "text/plain": [
       "Index(['UserId', 'ProductId', 'Rating', 'Timestamp'], dtype='object')"
      ]
     },
     "execution_count": 115,
     "metadata": {},
     "output_type": "execute_result"
    }
   ],
   "source": [
    "# a view of all the column\n",
    "ratings_data.columns"
   ]
  },
  {
   "cell_type": "markdown",
   "metadata": {},
   "source": [
    "                                                     Inference\n",
    "\n",
    "From the operation above, we can see clearly that the column names are not well organized, hence, we have to perform a renaming operation."
   ]
  },
  {
   "cell_type": "code",
   "execution_count": 165,
   "metadata": {},
   "outputs": [
    {
     "data": {
      "text/html": [
       "<div>\n",
       "<style scoped>\n",
       "    .dataframe tbody tr th:only-of-type {\n",
       "        vertical-align: middle;\n",
       "    }\n",
       "\n",
       "    .dataframe tbody tr th {\n",
       "        vertical-align: top;\n",
       "    }\n",
       "\n",
       "    .dataframe thead th {\n",
       "        text-align: right;\n",
       "    }\n",
       "</style>\n",
       "<table border=\"1\" class=\"dataframe\">\n",
       "  <thead>\n",
       "    <tr style=\"text-align: right;\">\n",
       "      <th></th>\n",
       "      <th>User_ID</th>\n",
       "      <th>Product_ID</th>\n",
       "      <th>Rating</th>\n",
       "      <th>Timestamp</th>\n",
       "    </tr>\n",
       "  </thead>\n",
       "  <tbody>\n",
       "    <tr>\n",
       "      <th>0</th>\n",
       "      <td>A39HTATAQ9V7YF</td>\n",
       "      <td>0205616461</td>\n",
       "      <td>5.0</td>\n",
       "      <td>1369699200</td>\n",
       "    </tr>\n",
       "    <tr>\n",
       "      <th>1</th>\n",
       "      <td>A3JM6GV9MNOF9X</td>\n",
       "      <td>0558925278</td>\n",
       "      <td>3.0</td>\n",
       "      <td>1355443200</td>\n",
       "    </tr>\n",
       "    <tr>\n",
       "      <th>2</th>\n",
       "      <td>A1Z513UWSAAO0F</td>\n",
       "      <td>0558925278</td>\n",
       "      <td>5.0</td>\n",
       "      <td>1404691200</td>\n",
       "    </tr>\n",
       "    <tr>\n",
       "      <th>3</th>\n",
       "      <td>A1WMRR494NWEWV</td>\n",
       "      <td>0733001998</td>\n",
       "      <td>4.0</td>\n",
       "      <td>1382572800</td>\n",
       "    </tr>\n",
       "    <tr>\n",
       "      <th>4</th>\n",
       "      <td>A3IAAVS479H7M7</td>\n",
       "      <td>0737104473</td>\n",
       "      <td>1.0</td>\n",
       "      <td>1274227200</td>\n",
       "    </tr>\n",
       "  </tbody>\n",
       "</table>\n",
       "</div>"
      ],
      "text/plain": [
       "          User_ID  Product_ID  Rating   Timestamp\n",
       "0  A39HTATAQ9V7YF  0205616461     5.0  1369699200\n",
       "1  A3JM6GV9MNOF9X  0558925278     3.0  1355443200\n",
       "2  A1Z513UWSAAO0F  0558925278     5.0  1404691200\n",
       "3  A1WMRR494NWEWV  0733001998     4.0  1382572800\n",
       "4  A3IAAVS479H7M7  0737104473     1.0  1274227200"
      ]
     },
     "execution_count": 165,
     "metadata": {},
     "output_type": "execute_result"
    }
   ],
   "source": [
    "# renaming column\n",
    "ratings_data.columns = ['User_ID', 'Product_ID', 'Rating', 'Timestamp']\n",
    "ratings_data.head()"
   ]
  },
  {
   "cell_type": "code",
   "execution_count": 166,
   "metadata": {},
   "outputs": [
    {
     "data": {
      "text/html": [
       "<div>\n",
       "<style scoped>\n",
       "    .dataframe tbody tr th:only-of-type {\n",
       "        vertical-align: middle;\n",
       "    }\n",
       "\n",
       "    .dataframe tbody tr th {\n",
       "        vertical-align: top;\n",
       "    }\n",
       "\n",
       "    .dataframe thead th {\n",
       "        text-align: right;\n",
       "    }\n",
       "</style>\n",
       "<table border=\"1\" class=\"dataframe\">\n",
       "  <thead>\n",
       "    <tr style=\"text-align: right;\">\n",
       "      <th></th>\n",
       "      <th>User_ID</th>\n",
       "      <th>Product_ID</th>\n",
       "      <th>Rating</th>\n",
       "      <th>Timestamp</th>\n",
       "    </tr>\n",
       "  </thead>\n",
       "  <tbody>\n",
       "    <tr>\n",
       "      <th>2023065</th>\n",
       "      <td>A3DEHKPFANB8VA</td>\n",
       "      <td>B00LORWRJA</td>\n",
       "      <td>5.0</td>\n",
       "      <td>1405296000</td>\n",
       "    </tr>\n",
       "    <tr>\n",
       "      <th>2023066</th>\n",
       "      <td>A3DEHKPFANB8VA</td>\n",
       "      <td>B00LOS7MEE</td>\n",
       "      <td>5.0</td>\n",
       "      <td>1405296000</td>\n",
       "    </tr>\n",
       "    <tr>\n",
       "      <th>2023067</th>\n",
       "      <td>AG9TJLJUN5OM3</td>\n",
       "      <td>B00LP2YB8E</td>\n",
       "      <td>5.0</td>\n",
       "      <td>1405382400</td>\n",
       "    </tr>\n",
       "    <tr>\n",
       "      <th>2023068</th>\n",
       "      <td>AYBIB14QOI9PC</td>\n",
       "      <td>B00LPVG6V0</td>\n",
       "      <td>5.0</td>\n",
       "      <td>1405555200</td>\n",
       "    </tr>\n",
       "    <tr>\n",
       "      <th>2023069</th>\n",
       "      <td>A1PB6OT0OOPKNQ</td>\n",
       "      <td>B00LU0LTOU</td>\n",
       "      <td>5.0</td>\n",
       "      <td>1405641600</td>\n",
       "    </tr>\n",
       "  </tbody>\n",
       "</table>\n",
       "</div>"
      ],
      "text/plain": [
       "                User_ID  Product_ID  Rating   Timestamp\n",
       "2023065  A3DEHKPFANB8VA  B00LORWRJA     5.0  1405296000\n",
       "2023066  A3DEHKPFANB8VA  B00LOS7MEE     5.0  1405296000\n",
       "2023067   AG9TJLJUN5OM3  B00LP2YB8E     5.0  1405382400\n",
       "2023068   AYBIB14QOI9PC  B00LPVG6V0     5.0  1405555200\n",
       "2023069  A1PB6OT0OOPKNQ  B00LU0LTOU     5.0  1405641600"
      ]
     },
     "execution_count": 166,
     "metadata": {},
     "output_type": "execute_result"
    }
   ],
   "source": [
    "# vewing the dataset from the bottom\n",
    "ratings_data.tail()"
   ]
  },
  {
   "cell_type": "code",
   "execution_count": 118,
   "metadata": {},
   "outputs": [
    {
     "name": "stdout",
     "output_type": "stream",
     "text": [
      "The Shape is:  (2023070, 4)\n"
     ]
    }
   ],
   "source": [
    "# checking  the size of the dataset\n",
    "print(\"The Shape is: \", ratings_data.shape)"
   ]
  },
  {
   "cell_type": "markdown",
   "metadata": {},
   "source": [
    "The above operation shows that the dataset contains 2023070 rows (data points) and 4 columns (features)."
   ]
  },
  {
   "cell_type": "code",
   "execution_count": 167,
   "metadata": {},
   "outputs": [
    {
     "name": "stdout",
     "output_type": "stream",
     "text": [
      "<class 'pandas.core.frame.DataFrame'>\n",
      "RangeIndex: 2023070 entries, 0 to 2023069\n",
      "Data columns (total 4 columns):\n",
      " #   Column      Dtype  \n",
      "---  ------      -----  \n",
      " 0   User_ID     object \n",
      " 1   Product_ID  object \n",
      " 2   Rating      float64\n",
      " 3   Timestamp   int64  \n",
      "dtypes: float64(1), int64(1), object(2)\n",
      "memory usage: 61.7+ MB\n"
     ]
    }
   ],
   "source": [
    "# checking through the data types\n",
    "ratings_data.info()"
   ]
  },
  {
   "cell_type": "code",
   "execution_count": 168,
   "metadata": {},
   "outputs": [
    {
     "data": {
      "text/plain": [
       "User_ID        object\n",
       "Product_ID     object\n",
       "Rating        float64\n",
       "Timestamp       int64\n",
       "dtype: object"
      ]
     },
     "execution_count": 168,
     "metadata": {},
     "output_type": "execute_result"
    }
   ],
   "source": [
    "# checking through the data types\n",
    "ratings_data.dtypes"
   ]
  },
  {
   "cell_type": "code",
   "execution_count": 169,
   "metadata": {},
   "outputs": [
    {
     "data": {
      "text/plain": [
       "User_ID       0\n",
       "Product_ID    0\n",
       "Rating        0\n",
       "Timestamp     0\n",
       "dtype: int64"
      ]
     },
     "execution_count": 169,
     "metadata": {},
     "output_type": "execute_result"
    }
   ],
   "source": [
    "# checking for missing values\n",
    "ratings_data.isnull().sum()"
   ]
  },
  {
   "cell_type": "markdown",
   "metadata": {},
   "source": [
    "The above operations shows that the dataset is clean and does'nt contain any missing values."
   ]
  },
  {
   "cell_type": "code",
   "execution_count": 38,
   "metadata": {},
   "outputs": [
    {
     "data": {
      "text/plain": [
       "0"
      ]
     },
     "execution_count": 38,
     "metadata": {},
     "output_type": "execute_result"
    }
   ],
   "source": [
    "# checking for duplicates \n",
    "ratings_data.duplicated().sum()"
   ]
  },
  {
   "cell_type": "markdown",
   "metadata": {},
   "source": [
    "From the duplicate operation we see that there are no duplicates in our datasets."
   ]
  },
  {
   "cell_type": "code",
   "execution_count": 170,
   "metadata": {},
   "outputs": [
    {
     "name": "stdout",
     "output_type": "stream",
     "text": [
      "The Categorical features are: ['User_ID', 'Product_ID']\n",
      "\n",
      "The Numerical features are: ['Rating', 'Timestamp']\n"
     ]
    }
   ],
   "source": [
    "# stating each category of the datasets\n",
    "categorical_features = [col for col in ratings_data.columns if ratings_data[col].dtype=='O']\n",
    "numerical_features = [col for col in ratings_data.columns if ratings_data[col].dtype!='O']\n",
    "print(\"The Categorical features are:\",categorical_features)\n",
    "print()\n",
    "print(\"The Numerical features are:\",numerical_features)"
   ]
  },
  {
   "cell_type": "code",
   "execution_count": 171,
   "metadata": {},
   "outputs": [
    {
     "data": {
      "text/html": [
       "<div>\n",
       "<style scoped>\n",
       "    .dataframe tbody tr th:only-of-type {\n",
       "        vertical-align: middle;\n",
       "    }\n",
       "\n",
       "    .dataframe tbody tr th {\n",
       "        vertical-align: top;\n",
       "    }\n",
       "\n",
       "    .dataframe thead th {\n",
       "        text-align: right;\n",
       "    }\n",
       "</style>\n",
       "<table border=\"1\" class=\"dataframe\">\n",
       "  <thead>\n",
       "    <tr style=\"text-align: right;\">\n",
       "      <th></th>\n",
       "      <th>Rating</th>\n",
       "      <th>Timestamp</th>\n",
       "    </tr>\n",
       "  </thead>\n",
       "  <tbody>\n",
       "    <tr>\n",
       "      <th>count</th>\n",
       "      <td>2.023070e+06</td>\n",
       "      <td>2.023070e+06</td>\n",
       "    </tr>\n",
       "    <tr>\n",
       "      <th>mean</th>\n",
       "      <td>4.149036e+00</td>\n",
       "      <td>1.360389e+09</td>\n",
       "    </tr>\n",
       "    <tr>\n",
       "      <th>std</th>\n",
       "      <td>1.311505e+00</td>\n",
       "      <td>4.611860e+07</td>\n",
       "    </tr>\n",
       "    <tr>\n",
       "      <th>min</th>\n",
       "      <td>1.000000e+00</td>\n",
       "      <td>9.087552e+08</td>\n",
       "    </tr>\n",
       "    <tr>\n",
       "      <th>25%</th>\n",
       "      <td>4.000000e+00</td>\n",
       "      <td>1.350259e+09</td>\n",
       "    </tr>\n",
       "    <tr>\n",
       "      <th>50%</th>\n",
       "      <td>5.000000e+00</td>\n",
       "      <td>1.372810e+09</td>\n",
       "    </tr>\n",
       "    <tr>\n",
       "      <th>75%</th>\n",
       "      <td>5.000000e+00</td>\n",
       "      <td>1.391472e+09</td>\n",
       "    </tr>\n",
       "    <tr>\n",
       "      <th>max</th>\n",
       "      <td>5.000000e+00</td>\n",
       "      <td>1.406074e+09</td>\n",
       "    </tr>\n",
       "  </tbody>\n",
       "</table>\n",
       "</div>"
      ],
      "text/plain": [
       "             Rating     Timestamp\n",
       "count  2.023070e+06  2.023070e+06\n",
       "mean   4.149036e+00  1.360389e+09\n",
       "std    1.311505e+00  4.611860e+07\n",
       "min    1.000000e+00  9.087552e+08\n",
       "25%    4.000000e+00  1.350259e+09\n",
       "50%    5.000000e+00  1.372810e+09\n",
       "75%    5.000000e+00  1.391472e+09\n",
       "max    5.000000e+00  1.406074e+09"
      ]
     },
     "execution_count": 171,
     "metadata": {},
     "output_type": "execute_result"
    }
   ],
   "source": [
    "# statistical summary of the datasets\n",
    "ratings_data.describe()"
   ]
  },
  {
   "cell_type": "code",
   "execution_count": 57,
   "metadata": {},
   "outputs": [
    {
     "data": {
      "text/plain": [
       "Rating\n",
       "5.0    1248721\n",
       "4.0     307740\n",
       "1.0     183784\n",
       "3.0     169791\n",
       "2.0     113034\n",
       "dtype: int64"
      ]
     },
     "execution_count": 57,
     "metadata": {},
     "output_type": "execute_result"
    }
   ],
   "source": [
    "# total rating for each rating class\n",
    "ratings_data.value_counts('Rating')"
   ]
  },
  {
   "cell_type": "code",
   "execution_count": 154,
   "metadata": {},
   "outputs": [
    {
     "data": {
      "text/plain": [
       "<AxesSubplot:ylabel='Rating'>"
      ]
     },
     "execution_count": 154,
     "metadata": {},
     "output_type": "execute_result"
    },
    {
     "data": {
      "image/png": "[encoded data removed]",
      "text/plain": [
       "<Figure size 864x576 with 1 Axes>"
      ]
     },
     "metadata": {},
     "output_type": "display_data"
    }
   ],
   "source": [
    "%matplotlib inline\n",
    "plt.figure(figsize = (12,8))\n",
    "\n",
    "# Distribution of ratings\n",
    "ratings_data.groupby('Rating').Rating.count()\n",
    "ratings_data.groupby('Rating').Rating.count().plot(kind='pie',autopct='%1.1f%%',startangle=90,explode=(0,0.1,0,0,0),)"
   ]
  },
  {
   "cell_type": "markdown",
   "metadata": {},
   "source": [
    "                                                    Inference\n",
    "\n",
    "The plot above shows that, customers were happy with the products they bought. About 61.7% customers gave 5 rating, 15.2% customers gave 4 rating, 8.4% customers gave 3 rating, 5.6% customers gave 2 rating, 9.1% customers gave 1 rating for the products they purchased."
   ]
  },
  {
   "cell_type": "code",
   "execution_count": 122,
   "metadata": {},
   "outputs": [
    {
     "name": "stderr",
     "output_type": "stream",
     "text": [
      "c:\\Users\\USER\\Desktop\\Capestone Project1\\Sales_Forecasting_for_Walmart\\capstone_env\\lib\\site-packages\\seaborn\\_decorators.py:36: FutureWarning: Pass the following variable as a keyword arg: x. From version 0.12, the only valid positional argument will be `data`, and passing other arguments without an explicit keyword will result in an error or misinterpretation.\n",
      "  warnings.warn(\n"
     ]
    },
    {
     "data": {
      "text/plain": [
       "<AxesSubplot:xlabel='Rating', ylabel='count'>"
      ]
     },
     "execution_count": 122,
     "metadata": {},
     "output_type": "execute_result"
    },
    {
     "data": {
      "image/png": "[encoded data removed]",
      "text/plain": [
       "<Figure size 432x288 with 1 Axes>"
      ]
     },
     "metadata": {},
     "output_type": "display_data"
    }
   ],
   "source": [
    "# total count for ratings.\n",
    "sns.countplot(ratings_data['Rating']) "
   ]
  },
  {
   "cell_type": "code",
   "execution_count": 163,
   "metadata": {},
   "outputs": [
    {
     "name": "stdout",
     "output_type": "stream",
     "text": [
      "unique Users: 1210271\n",
      "unique Product: 249274\n",
      "Unique Star Ratings [5. 3. 4. 1. 2.]\n",
      "The Total Ratings:  2023070\n"
     ]
    }
   ],
   "source": [
    "# checking unique features\n",
    "print('unique Users:',len(ratings_data.User_ID.unique())) # unique users\n",
    "print('unique Product:',len(ratings_data.Product_ID.unique())) # unique product\n",
    "print('Unique Star Ratings',ratings_data['Rating'].unique()) # unique Ratings\n",
    "print(\"The Total Ratings: \",ratings_data.shape[0])"
   ]
  },
  {
   "cell_type": "markdown",
   "metadata": {},
   "source": [
    "                                                    Inference\n",
    "The unique operation displays unique ratings, unique users and unique product. Users that give their rating is 1210271 and the mean of the ratings is 4.1, which means customers would rather give high ratings for products. Also, the Standard deviation and percentiles also show that user that rate product between 1 and 2 is rare.\n",
    "\n",
    "The star rating  statistics shows that:\n",
    "\n",
    "183784 customers give 1 star\n",
    "\n",
    "113034 customers give 2 stars\n",
    "\n",
    "169791 customers give 3 stars\n",
    "\n",
    "307740 customers give 4 stars\n",
    "\n",
    "1248721 customers give 5 stars\n"
   ]
  },
  {
   "cell_type": "code",
   "execution_count": 161,
   "metadata": {},
   "outputs": [
    {
     "name": "stdout",
     "output_type": "stream",
     "text": [
      "Number of unique product with high rating 220746\n"
     ]
    }
   ],
   "source": [
    "# Number of Products with high ratings\n",
    "high_rated_product = ratings_data[ratings_data['Rating'] >= 4.0]\n",
    "print('Number of unique product with high rating',len(high_rated_product['Product_ID'].unique()))"
   ]
  },
  {
   "cell_type": "markdown",
   "metadata": {},
   "source": [
    "                                                   Inference\n",
    "The Number of unique product with high rating  is 220746"
   ]
  },
  {
   "cell_type": "markdown",
   "metadata": {},
   "source": [
    "#### Top 10 Products Based on Sales"
   ]
  },
  {
   "cell_type": "code",
   "execution_count": 135,
   "metadata": {},
   "outputs": [
    {
     "data": {
      "text/html": [
       "<div>\n",
       "<style scoped>\n",
       "    .dataframe tbody tr th:only-of-type {\n",
       "        vertical-align: middle;\n",
       "    }\n",
       "\n",
       "    .dataframe tbody tr th {\n",
       "        vertical-align: top;\n",
       "    }\n",
       "\n",
       "    .dataframe thead th {\n",
       "        text-align: right;\n",
       "    }\n",
       "</style>\n",
       "<table border=\"1\" class=\"dataframe\">\n",
       "  <thead>\n",
       "    <tr style=\"text-align: right;\">\n",
       "      <th></th>\n",
       "      <th>Product_ID</th>\n",
       "      <th>Count</th>\n",
       "    </tr>\n",
       "  </thead>\n",
       "  <tbody>\n",
       "    <tr>\n",
       "      <th>0</th>\n",
       "      <td>0205616461</td>\n",
       "      <td>7533</td>\n",
       "    </tr>\n",
       "    <tr>\n",
       "      <th>1</th>\n",
       "      <td>0558925278</td>\n",
       "      <td>2869</td>\n",
       "    </tr>\n",
       "    <tr>\n",
       "      <th>2</th>\n",
       "      <td>0733001998</td>\n",
       "      <td>2477</td>\n",
       "    </tr>\n",
       "    <tr>\n",
       "      <th>3</th>\n",
       "      <td>0737104473</td>\n",
       "      <td>2143</td>\n",
       "    </tr>\n",
       "    <tr>\n",
       "      <th>4</th>\n",
       "      <td>0762451459</td>\n",
       "      <td>2088</td>\n",
       "    </tr>\n",
       "    <tr>\n",
       "      <th>5</th>\n",
       "      <td>1304139212</td>\n",
       "      <td>2041</td>\n",
       "    </tr>\n",
       "    <tr>\n",
       "      <th>6</th>\n",
       "      <td>1304139220</td>\n",
       "      <td>1918</td>\n",
       "    </tr>\n",
       "    <tr>\n",
       "      <th>7</th>\n",
       "      <td>130414089X</td>\n",
       "      <td>1885</td>\n",
       "    </tr>\n",
       "    <tr>\n",
       "      <th>8</th>\n",
       "      <td>130414643X</td>\n",
       "      <td>1838</td>\n",
       "    </tr>\n",
       "    <tr>\n",
       "      <th>9</th>\n",
       "      <td>1304146537</td>\n",
       "      <td>1589</td>\n",
       "    </tr>\n",
       "    <tr>\n",
       "      <th>10</th>\n",
       "      <td>130414674X</td>\n",
       "      <td>1558</td>\n",
       "    </tr>\n",
       "  </tbody>\n",
       "</table>\n",
       "</div>"
      ],
      "text/plain": [
       "    Product_ID  Count\n",
       "0   0205616461   7533\n",
       "1   0558925278   2869\n",
       "2   0733001998   2477\n",
       "3   0737104473   2143\n",
       "4   0762451459   2088\n",
       "5   1304139212   2041\n",
       "6   1304139220   1918\n",
       "7   130414089X   1885\n",
       "8   130414643X   1838\n",
       "9   1304146537   1589\n",
       "10  130414674X   1558"
      ]
     },
     "execution_count": 135,
     "metadata": {},
     "output_type": "execute_result"
    }
   ],
   "source": [
    "# Top 10 Products based on sales.\n",
    "\n",
    "a = list(ratings_data['Product_ID'].value_counts())\n",
    "b = list(ratings_data['Product_ID'].unique())\n",
    "top_10_products = pd.DataFrame(list(zip(b[0:11],a[0:11])),columns =['Product_ID', 'Count'])\n",
    "top_10_products"
   ]
  },
  {
   "cell_type": "code",
   "execution_count": 149,
   "metadata": {},
   "outputs": [
    {
     "data": {
      "text/plain": [
       "<AxesSubplot:xlabel='Product_ID', ylabel='Count'>"
      ]
     },
     "execution_count": 149,
     "metadata": {},
     "output_type": "execute_result"
    },
    {
     "data": {
      "image/png": "[encoded data removed]",
      "text/plain": [
       "<Figure size 1080x432 with 1 Axes>"
      ]
     },
     "metadata": {},
     "output_type": "display_data"
    }
   ],
   "source": [
    "#Barplot of top 10 products.\n",
    "\n",
    "plt.figure(figsize=(15,6))\n",
    "sns.barplot(x=top_10_products['Product_ID'].head(10),y=top_10_products['Count'].head(10))"
   ]
  },
  {
   "cell_type": "markdown",
   "metadata": {},
   "source": [
    "                                                     Inference \n",
    "\n",
    "We have the top 10 product based on sales. "
   ]
  },
  {
   "cell_type": "code",
   "execution_count": 173,
   "metadata": {},
   "outputs": [
    {
     "data": {
      "text/plain": [
       "Text(0, 0.5, 'Ratings')"
      ]
     },
     "execution_count": 173,
     "metadata": {},
     "output_type": "execute_result"
    },
    {
     "data": {
      "image/png": "[encoded data removed]",
      "text/plain": [
       "<Figure size 576x432 with 1 Axes>"
      ]
     },
     "metadata": {
      "needs_background": "light"
     },
     "output_type": "display_data"
    }
   ],
   "source": [
    "# Reviews for top 10 product \n",
    "products = ratings_data[\"Product_ID\"].value_counts()\n",
    "plt.figure(figsize=(8,6))\n",
    "\n",
    "# showing the Top 10 selling products Id by ecommerce website\n",
    "products[:10].plot(kind='bar')\n",
    "plt.title(\"Ratings for Top 10 Products\")\n",
    "plt.xlabel('Product_ID')\n",
    "plt.ylabel('Ratings')"
   ]
  },
  {
   "cell_type": "markdown",
   "metadata": {},
   "source": [
    "                                           Inference\n",
    "\n",
    "From the above plot we can see the top 10 product ID for the E-commerce site. B001MA0QY2 is the highest rated product ID by customers on the E-commerce site compared to the others.\n",
    "\n",
    "This means that, product ID -B001MA0QY2 has over 7000 sales, followed by product Id -B0009V1YR8 with sales of 3000 and so on."
   ]
  },
  {
   "cell_type": "code",
   "execution_count": 175,
   "metadata": {},
   "outputs": [
    {
     "data": {
      "text/plain": [
       "Text(0, 0.5, 'Ratings')"
      ]
     },
     "execution_count": 175,
     "metadata": {},
     "output_type": "execute_result"
    },
    {
     "data": {
      "image/png": "[encoded data removed]",
      "text/plain": [
       "<Figure size 576x432 with 1 Axes>"
      ]
     },
     "metadata": {
      "needs_background": "light"
     },
     "output_type": "display_data"
    }
   ],
   "source": [
    "# Ratings for the least 10 product \n",
    "products = ratings_data[\"Product_ID\"].value_counts()\n",
    "plt.figure(figsize=(8,6))\n",
    "products[-10:].plot(kind='bar')\n",
    "plt.title(\"Ratings for least 10 Products\")\n",
    "plt.xlabel('Product_ID')\n",
    "plt.ylabel('Ratings')"
   ]
  },
  {
   "cell_type": "markdown",
   "metadata": {},
   "source": [
    "                                                       Inference\n",
    "\n",
    "From the above plot we can see the least 15 product Id for the E-commerce site. "
   ]
  },
  {
   "cell_type": "markdown",
   "metadata": {},
   "source": [
    "#### Top 10 Users Based On The Count Of Their Orders."
   ]
  },
  {
   "cell_type": "code",
   "execution_count": 134,
   "metadata": {},
   "outputs": [
    {
     "data": {
      "text/html": [
       "<div>\n",
       "<style scoped>\n",
       "    .dataframe tbody tr th:only-of-type {\n",
       "        vertical-align: middle;\n",
       "    }\n",
       "\n",
       "    .dataframe tbody tr th {\n",
       "        vertical-align: top;\n",
       "    }\n",
       "\n",
       "    .dataframe thead th {\n",
       "        text-align: right;\n",
       "    }\n",
       "</style>\n",
       "<table border=\"1\" class=\"dataframe\">\n",
       "  <thead>\n",
       "    <tr style=\"text-align: right;\">\n",
       "      <th></th>\n",
       "      <th>User_ID</th>\n",
       "      <th>Count</th>\n",
       "    </tr>\n",
       "  </thead>\n",
       "  <tbody>\n",
       "    <tr>\n",
       "      <th>0</th>\n",
       "      <td>A39HTATAQ9V7YF</td>\n",
       "      <td>389</td>\n",
       "    </tr>\n",
       "    <tr>\n",
       "      <th>1</th>\n",
       "      <td>A3JM6GV9MNOF9X</td>\n",
       "      <td>336</td>\n",
       "    </tr>\n",
       "    <tr>\n",
       "      <th>2</th>\n",
       "      <td>A1Z513UWSAAO0F</td>\n",
       "      <td>326</td>\n",
       "    </tr>\n",
       "    <tr>\n",
       "      <th>3</th>\n",
       "      <td>A1WMRR494NWEWV</td>\n",
       "      <td>278</td>\n",
       "    </tr>\n",
       "    <tr>\n",
       "      <th>4</th>\n",
       "      <td>A3IAAVS479H7M7</td>\n",
       "      <td>276</td>\n",
       "    </tr>\n",
       "    <tr>\n",
       "      <th>5</th>\n",
       "      <td>AKJHHD5VEH7VG</td>\n",
       "      <td>275</td>\n",
       "    </tr>\n",
       "    <tr>\n",
       "      <th>6</th>\n",
       "      <td>A1BG8QW55XHN6U</td>\n",
       "      <td>269</td>\n",
       "    </tr>\n",
       "    <tr>\n",
       "      <th>7</th>\n",
       "      <td>A22VW0P4VZHDE3</td>\n",
       "      <td>259</td>\n",
       "    </tr>\n",
       "    <tr>\n",
       "      <th>8</th>\n",
       "      <td>A3V3RE4132GKRO</td>\n",
       "      <td>249</td>\n",
       "    </tr>\n",
       "    <tr>\n",
       "      <th>9</th>\n",
       "      <td>A327B0I7CYTEJC</td>\n",
       "      <td>225</td>\n",
       "    </tr>\n",
       "    <tr>\n",
       "      <th>10</th>\n",
       "      <td>AIFAAVTUYHEHB</td>\n",
       "      <td>211</td>\n",
       "    </tr>\n",
       "  </tbody>\n",
       "</table>\n",
       "</div>"
      ],
      "text/plain": [
       "           User_ID  Count\n",
       "0   A39HTATAQ9V7YF    389\n",
       "1   A3JM6GV9MNOF9X    336\n",
       "2   A1Z513UWSAAO0F    326\n",
       "3   A1WMRR494NWEWV    278\n",
       "4   A3IAAVS479H7M7    276\n",
       "5    AKJHHD5VEH7VG    275\n",
       "6   A1BG8QW55XHN6U    269\n",
       "7   A22VW0P4VZHDE3    259\n",
       "8   A3V3RE4132GKRO    249\n",
       "9   A327B0I7CYTEJC    225\n",
       "10   AIFAAVTUYHEHB    211"
      ]
     },
     "execution_count": 134,
     "metadata": {},
     "output_type": "execute_result"
    }
   ],
   "source": [
    "a = list(ratings_data['User_ID'].value_counts())\n",
    "b = list(ratings_data['User_ID'].unique())\n",
    "top_10_Users = pd.DataFrame(list(zip(b[0:11],a[0:11])),columns =['User_ID', 'Count'])\n",
    "top_10_Users"
   ]
  },
  {
   "cell_type": "code",
   "execution_count": 153,
   "metadata": {},
   "outputs": [
    {
     "data": {
      "text/plain": [
       "<AxesSubplot:xlabel='User_ID', ylabel='Count'>"
      ]
     },
     "execution_count": 153,
     "metadata": {},
     "output_type": "execute_result"
    },
    {
     "data": {
      "image/png": "[encoded data removed]",
      "text/plain": [
       "<Figure size 1440x576 with 1 Axes>"
      ]
     },
     "metadata": {},
     "output_type": "display_data"
    }
   ],
   "source": [
    "# Barplot of top 5 Users.\n",
    "\n",
    "plt.figure(figsize=(20,8))\n",
    "sns.barplot(x=top_10_Users['User_ID'].head(10),y=top_10_Users['Count'].head(10))"
   ]
  },
  {
   "cell_type": "code",
   "execution_count": 46,
   "metadata": {},
   "outputs": [
    {
     "data": {
      "text/plain": [
       "Rating\n",
       "1.0     183784\n",
       "2.0     113034\n",
       "3.0     169791\n",
       "4.0     307740\n",
       "5.0    1248721\n",
       "Name: User_ID, dtype: int64"
      ]
     },
     "execution_count": 46,
     "metadata": {},
     "output_type": "execute_result"
    }
   ],
   "source": [
    "# knowing the rating given by each of the users\n",
    "ratings_data.groupby('Rating')['User_ID'].count()"
   ]
  },
  {
   "cell_type": "markdown",
   "metadata": {},
   "source": [
    "#### What is Collaborative Filtering?\n",
    " \n",
    "Collaborative Filtering is the most common used technique in building intelligent recommender systems that can learn to give better recommendations as more information about the users is collected.\n",
    "\n",
    "Websites such as Amazon, YouTube, and Netflix make use collaborative filtering as a part of their advanced recommendation systems. This technique is use to build recommenders that  suggest to a user based on the likes and dislikes of other similar users.\n",
    "\n",
    "Collaborative Filtering approach is used to recommend items to user based on buying history and similarity of ratings provided by other users who bought the same items as that particular customer."
   ]
  },
  {
   "cell_type": "markdown",
   "metadata": {},
   "source": [
    "### Model Preparation"
   ]
  },
  {
   "cell_type": "markdown",
   "metadata": {},
   "source": [
    "The Timestamp colunm gives a digital record of the time of occurrence of a particular event, howeever, it would not be og great use. Dropping the timestamp column will be neccessary as it do not add or explain anything to the dataset."
   ]
  },
  {
   "cell_type": "code",
   "execution_count": 176,
   "metadata": {},
   "outputs": [],
   "source": [
    "# droping the timestamp column.\n",
    "\n",
    "ratings_data.drop('Timestamp',axis=1,inplace=True)"
   ]
  },
  {
   "cell_type": "code",
   "execution_count": 202,
   "metadata": {},
   "outputs": [],
   "source": [
    "# spliting and training\n",
    "from sklearn.model_selection import train_test_split\n",
    "train_data, test_data = train_test_split(ratings_data, test_size = 0.2, random_state=0)"
   ]
  },
  {
   "cell_type": "code",
   "execution_count": 203,
   "metadata": {},
   "outputs": [
    {
     "data": {
      "text/html": [
       "<div>\n",
       "<style scoped>\n",
       "    .dataframe tbody tr th:only-of-type {\n",
       "        vertical-align: middle;\n",
       "    }\n",
       "\n",
       "    .dataframe tbody tr th {\n",
       "        vertical-align: top;\n",
       "    }\n",
       "\n",
       "    .dataframe thead th {\n",
       "        text-align: right;\n",
       "    }\n",
       "</style>\n",
       "<table border=\"1\" class=\"dataframe\">\n",
       "  <thead>\n",
       "    <tr style=\"text-align: right;\">\n",
       "      <th></th>\n",
       "      <th>User_ID</th>\n",
       "      <th>Product_ID</th>\n",
       "      <th>Rating</th>\n",
       "    </tr>\n",
       "  </thead>\n",
       "  <tbody>\n",
       "    <tr>\n",
       "      <th>1820811</th>\n",
       "      <td>A3T41HVBC1PSCO</td>\n",
       "      <td>B00B1OOZU0</td>\n",
       "      <td>5.0</td>\n",
       "    </tr>\n",
       "    <tr>\n",
       "      <th>1541414</th>\n",
       "      <td>A24Y7P9O9LU6TH</td>\n",
       "      <td>B006Z9ACMG</td>\n",
       "      <td>5.0</td>\n",
       "    </tr>\n",
       "    <tr>\n",
       "      <th>783039</th>\n",
       "      <td>A1F7YU6O5RU432</td>\n",
       "      <td>B001T8MD8Y</td>\n",
       "      <td>5.0</td>\n",
       "    </tr>\n",
       "    <tr>\n",
       "      <th>1699677</th>\n",
       "      <td>A1HCJ5CDLNWJPJ</td>\n",
       "      <td>B008U4AR3I</td>\n",
       "      <td>5.0</td>\n",
       "    </tr>\n",
       "    <tr>\n",
       "      <th>787779</th>\n",
       "      <td>APDELNTXEZAX4</td>\n",
       "      <td>B001TXFMD2</td>\n",
       "      <td>4.0</td>\n",
       "    </tr>\n",
       "  </tbody>\n",
       "</table>\n",
       "</div>"
      ],
      "text/plain": [
       "                User_ID  Product_ID  Rating\n",
       "1820811  A3T41HVBC1PSCO  B00B1OOZU0     5.0\n",
       "1541414  A24Y7P9O9LU6TH  B006Z9ACMG     5.0\n",
       "783039   A1F7YU6O5RU432  B001T8MD8Y     5.0\n",
       "1699677  A1HCJ5CDLNWJPJ  B008U4AR3I     5.0\n",
       "787779    APDELNTXEZAX4  B001TXFMD2     4.0"
      ]
     },
     "execution_count": 203,
     "metadata": {},
     "output_type": "execute_result"
    }
   ],
   "source": [
    "# overview of train data\n",
    "train_data.head()"
   ]
  },
  {
   "cell_type": "code",
   "execution_count": 204,
   "metadata": {},
   "outputs": [
    {
     "data": {
      "text/html": [
       "<div>\n",
       "<style scoped>\n",
       "    .dataframe tbody tr th:only-of-type {\n",
       "        vertical-align: middle;\n",
       "    }\n",
       "\n",
       "    .dataframe tbody tr th {\n",
       "        vertical-align: top;\n",
       "    }\n",
       "\n",
       "    .dataframe thead th {\n",
       "        text-align: right;\n",
       "    }\n",
       "</style>\n",
       "<table border=\"1\" class=\"dataframe\">\n",
       "  <thead>\n",
       "    <tr style=\"text-align: right;\">\n",
       "      <th></th>\n",
       "      <th>User_ID</th>\n",
       "      <th>Product_ID</th>\n",
       "      <th>Rating</th>\n",
       "    </tr>\n",
       "  </thead>\n",
       "  <tbody>\n",
       "    <tr>\n",
       "      <th>723411</th>\n",
       "      <td>A23ZJBVZ4OLDJ</td>\n",
       "      <td>B001KNHM4I</td>\n",
       "      <td>3.0</td>\n",
       "    </tr>\n",
       "    <tr>\n",
       "      <th>1472875</th>\n",
       "      <td>A3O52IDYQ4Z66H</td>\n",
       "      <td>B0062U1QC8</td>\n",
       "      <td>4.0</td>\n",
       "    </tr>\n",
       "    <tr>\n",
       "      <th>2000120</th>\n",
       "      <td>A1PDYBT822BHNJ</td>\n",
       "      <td>B00I14O9C2</td>\n",
       "      <td>5.0</td>\n",
       "    </tr>\n",
       "    <tr>\n",
       "      <th>2014061</th>\n",
       "      <td>A14F5W1N7CZDVW</td>\n",
       "      <td>B00JDTFBR6</td>\n",
       "      <td>5.0</td>\n",
       "    </tr>\n",
       "    <tr>\n",
       "      <th>1076951</th>\n",
       "      <td>A2EPK0CT24CZHS</td>\n",
       "      <td>B003O3C06M</td>\n",
       "      <td>4.0</td>\n",
       "    </tr>\n",
       "  </tbody>\n",
       "</table>\n",
       "</div>"
      ],
      "text/plain": [
       "                User_ID  Product_ID  Rating\n",
       "723411    A23ZJBVZ4OLDJ  B001KNHM4I     3.0\n",
       "1472875  A3O52IDYQ4Z66H  B0062U1QC8     4.0\n",
       "2000120  A1PDYBT822BHNJ  B00I14O9C2     5.0\n",
       "2014061  A14F5W1N7CZDVW  B00JDTFBR6     5.0\n",
       "1076951  A2EPK0CT24CZHS  B003O3C06M     4.0"
      ]
     },
     "execution_count": 204,
     "metadata": {},
     "output_type": "execute_result"
    }
   ],
   "source": [
    "# overview of test data\n",
    "test_data.head()"
   ]
  },
  {
   "cell_type": "markdown",
   "metadata": {},
   "source": [
    "#### User-Item Matrix"
   ]
  },
  {
   "cell_type": "code",
   "execution_count": 253,
   "metadata": {},
   "outputs": [
    {
     "data": {
      "text/html": [
       "<div>\n",
       "<style scoped>\n",
       "    .dataframe tbody tr th:only-of-type {\n",
       "        vertical-align: middle;\n",
       "    }\n",
       "\n",
       "    .dataframe tbody tr th {\n",
       "        vertical-align: top;\n",
       "    }\n",
       "\n",
       "    .dataframe thead th {\n",
       "        text-align: right;\n",
       "    }\n",
       "</style>\n",
       "<table border=\"1\" class=\"dataframe\">\n",
       "  <thead>\n",
       "    <tr style=\"text-align: right;\">\n",
       "      <th>Product_ID</th>\n",
       "      <th>0205616461</th>\n",
       "      <th>0558925278</th>\n",
       "      <th>0733001998</th>\n",
       "      <th>0737104473</th>\n",
       "      <th>0762451459</th>\n",
       "      <th>1304139212</th>\n",
       "      <th>1304139220</th>\n",
       "      <th>130414089X</th>\n",
       "      <th>130414643X</th>\n",
       "      <th>1304146537</th>\n",
       "      <th>...</th>\n",
       "      <th>B000052YPE</th>\n",
       "      <th>B000052YPF</th>\n",
       "      <th>B000052YPG</th>\n",
       "      <th>B000052YPH</th>\n",
       "      <th>B000052YPM</th>\n",
       "      <th>B000052YPU</th>\n",
       "      <th>B000052YPV</th>\n",
       "      <th>B000052YPY</th>\n",
       "      <th>B000052YQ0</th>\n",
       "      <th>B000052YQ2</th>\n",
       "    </tr>\n",
       "    <tr>\n",
       "      <th>User_ID</th>\n",
       "      <th></th>\n",
       "      <th></th>\n",
       "      <th></th>\n",
       "      <th></th>\n",
       "      <th></th>\n",
       "      <th></th>\n",
       "      <th></th>\n",
       "      <th></th>\n",
       "      <th></th>\n",
       "      <th></th>\n",
       "      <th></th>\n",
       "      <th></th>\n",
       "      <th></th>\n",
       "      <th></th>\n",
       "      <th></th>\n",
       "      <th></th>\n",
       "      <th></th>\n",
       "      <th></th>\n",
       "      <th></th>\n",
       "      <th></th>\n",
       "      <th></th>\n",
       "    </tr>\n",
       "  </thead>\n",
       "  <tbody>\n",
       "    <tr>\n",
       "      <th>A00205921JHJK5X9LNP42</th>\n",
       "      <td>0</td>\n",
       "      <td>0</td>\n",
       "      <td>0</td>\n",
       "      <td>0</td>\n",
       "      <td>0</td>\n",
       "      <td>0</td>\n",
       "      <td>0</td>\n",
       "      <td>0</td>\n",
       "      <td>0</td>\n",
       "      <td>0</td>\n",
       "      <td>...</td>\n",
       "      <td>0</td>\n",
       "      <td>0</td>\n",
       "      <td>0</td>\n",
       "      <td>0</td>\n",
       "      <td>0</td>\n",
       "      <td>0</td>\n",
       "      <td>0</td>\n",
       "      <td>0</td>\n",
       "      <td>0</td>\n",
       "      <td>0</td>\n",
       "    </tr>\n",
       "    <tr>\n",
       "      <th>A024581134CV80ZBLIZTZ</th>\n",
       "      <td>0</td>\n",
       "      <td>0</td>\n",
       "      <td>0</td>\n",
       "      <td>0</td>\n",
       "      <td>0</td>\n",
       "      <td>0</td>\n",
       "      <td>0</td>\n",
       "      <td>0</td>\n",
       "      <td>0</td>\n",
       "      <td>0</td>\n",
       "      <td>...</td>\n",
       "      <td>0</td>\n",
       "      <td>0</td>\n",
       "      <td>0</td>\n",
       "      <td>0</td>\n",
       "      <td>0</td>\n",
       "      <td>0</td>\n",
       "      <td>0</td>\n",
       "      <td>0</td>\n",
       "      <td>0</td>\n",
       "      <td>0</td>\n",
       "    </tr>\n",
       "    <tr>\n",
       "      <th>A03056581JJIOL5FSKJY7</th>\n",
       "      <td>0</td>\n",
       "      <td>0</td>\n",
       "      <td>0</td>\n",
       "      <td>0</td>\n",
       "      <td>0</td>\n",
       "      <td>0</td>\n",
       "      <td>0</td>\n",
       "      <td>0</td>\n",
       "      <td>0</td>\n",
       "      <td>0</td>\n",
       "      <td>...</td>\n",
       "      <td>0</td>\n",
       "      <td>0</td>\n",
       "      <td>0</td>\n",
       "      <td>0</td>\n",
       "      <td>0</td>\n",
       "      <td>0</td>\n",
       "      <td>0</td>\n",
       "      <td>0</td>\n",
       "      <td>0</td>\n",
       "      <td>0</td>\n",
       "    </tr>\n",
       "    <tr>\n",
       "      <th>A03099101ZRK4K607JVHH</th>\n",
       "      <td>0</td>\n",
       "      <td>0</td>\n",
       "      <td>0</td>\n",
       "      <td>0</td>\n",
       "      <td>0</td>\n",
       "      <td>0</td>\n",
       "      <td>0</td>\n",
       "      <td>0</td>\n",
       "      <td>0</td>\n",
       "      <td>0</td>\n",
       "      <td>...</td>\n",
       "      <td>0</td>\n",
       "      <td>0</td>\n",
       "      <td>0</td>\n",
       "      <td>0</td>\n",
       "      <td>0</td>\n",
       "      <td>0</td>\n",
       "      <td>0</td>\n",
       "      <td>0</td>\n",
       "      <td>0</td>\n",
       "      <td>0</td>\n",
       "    </tr>\n",
       "    <tr>\n",
       "      <th>A0505229A7NSH3FRXRR4</th>\n",
       "      <td>0</td>\n",
       "      <td>0</td>\n",
       "      <td>0</td>\n",
       "      <td>0</td>\n",
       "      <td>0</td>\n",
       "      <td>0</td>\n",
       "      <td>0</td>\n",
       "      <td>0</td>\n",
       "      <td>0</td>\n",
       "      <td>0</td>\n",
       "      <td>...</td>\n",
       "      <td>0</td>\n",
       "      <td>0</td>\n",
       "      <td>0</td>\n",
       "      <td>0</td>\n",
       "      <td>0</td>\n",
       "      <td>0</td>\n",
       "      <td>0</td>\n",
       "      <td>0</td>\n",
       "      <td>0</td>\n",
       "      <td>0</td>\n",
       "    </tr>\n",
       "  </tbody>\n",
       "</table>\n",
       "<p>5 rows × 886 columns</p>\n",
       "</div>"
      ],
      "text/plain": [
       "Product_ID             0205616461  0558925278  0733001998  0737104473  \\\n",
       "User_ID                                                                 \n",
       "A00205921JHJK5X9LNP42           0           0           0           0   \n",
       "A024581134CV80ZBLIZTZ           0           0           0           0   \n",
       "A03056581JJIOL5FSKJY7           0           0           0           0   \n",
       "A03099101ZRK4K607JVHH           0           0           0           0   \n",
       "A0505229A7NSH3FRXRR4            0           0           0           0   \n",
       "\n",
       "Product_ID             0762451459  1304139212  1304139220  130414089X  \\\n",
       "User_ID                                                                 \n",
       "A00205921JHJK5X9LNP42           0           0           0           0   \n",
       "A024581134CV80ZBLIZTZ           0           0           0           0   \n",
       "A03056581JJIOL5FSKJY7           0           0           0           0   \n",
       "A03099101ZRK4K607JVHH           0           0           0           0   \n",
       "A0505229A7NSH3FRXRR4            0           0           0           0   \n",
       "\n",
       "Product_ID             130414643X  1304146537  ...  B000052YPE  B000052YPF  \\\n",
       "User_ID                                        ...                           \n",
       "A00205921JHJK5X9LNP42           0           0  ...           0           0   \n",
       "A024581134CV80ZBLIZTZ           0           0  ...           0           0   \n",
       "A03056581JJIOL5FSKJY7           0           0  ...           0           0   \n",
       "A03099101ZRK4K607JVHH           0           0  ...           0           0   \n",
       "A0505229A7NSH3FRXRR4            0           0  ...           0           0   \n",
       "\n",
       "Product_ID             B000052YPG  B000052YPH  B000052YPM  B000052YPU  \\\n",
       "User_ID                                                                 \n",
       "A00205921JHJK5X9LNP42           0           0           0           0   \n",
       "A024581134CV80ZBLIZTZ           0           0           0           0   \n",
       "A03056581JJIOL5FSKJY7           0           0           0           0   \n",
       "A03099101ZRK4K607JVHH           0           0           0           0   \n",
       "A0505229A7NSH3FRXRR4            0           0           0           0   \n",
       "\n",
       "Product_ID             B000052YPV  B000052YPY  B000052YQ0  B000052YQ2  \n",
       "User_ID                                                                \n",
       "A00205921JHJK5X9LNP42           0           0           0           0  \n",
       "A024581134CV80ZBLIZTZ           0           0           0           0  \n",
       "A03056581JJIOL5FSKJY7           0           0           0           0  \n",
       "A03099101ZRK4K607JVHH           0           0           0           0  \n",
       "A0505229A7NSH3FRXRR4            0           0           0           0  \n",
       "\n",
       "[5 rows x 886 columns]"
      ]
     },
     "execution_count": 253,
     "metadata": {},
     "output_type": "execute_result"
    }
   ],
   "source": [
    "# taking a fraction of the dataset in other to create a user-item matrix. \n",
    "\n",
    "new_rating_data=ratings_data.head(10000)\n",
    "ratings_matrix = new_rating_data.pivot_table(values='Rating', index='User_ID', columns='Product_ID', fill_value=0)\n",
    "ratings_matrix.head()"
   ]
  },
  {
   "cell_type": "code",
   "execution_count": 254,
   "metadata": {},
   "outputs": [
    {
     "data": {
      "text/plain": [
       "(9697, 886)"
      ]
     },
     "execution_count": 254,
     "metadata": {},
     "output_type": "execute_result"
    }
   ],
   "source": [
    "# the new size of the dataset\n",
    "ratings_matrix.shape"
   ]
  },
  {
   "cell_type": "markdown",
   "metadata": {},
   "source": [
    "                                                          Inference \n",
    "\n",
    "The matrix above consists of all possible user-item ratings details represented as a matrix.\n",
    "\n",
    "Most of the values are in utility matrix which is expected because not all user would give ratings to all products. This is the reason  we fill missing or NaN values with 0."
   ]
  },
  {
   "cell_type": "code",
   "execution_count": 255,
   "metadata": {},
   "outputs": [
    {
     "data": {
      "text/html": [
       "<div>\n",
       "<style scoped>\n",
       "    .dataframe tbody tr th:only-of-type {\n",
       "        vertical-align: middle;\n",
       "    }\n",
       "\n",
       "    .dataframe tbody tr th {\n",
       "        vertical-align: top;\n",
       "    }\n",
       "\n",
       "    .dataframe thead th {\n",
       "        text-align: right;\n",
       "    }\n",
       "</style>\n",
       "<table border=\"1\" class=\"dataframe\">\n",
       "  <thead>\n",
       "    <tr style=\"text-align: right;\">\n",
       "      <th>User_ID</th>\n",
       "      <th>A00205921JHJK5X9LNP42</th>\n",
       "      <th>A024581134CV80ZBLIZTZ</th>\n",
       "      <th>A03056581JJIOL5FSKJY7</th>\n",
       "      <th>A03099101ZRK4K607JVHH</th>\n",
       "      <th>A0505229A7NSH3FRXRR4</th>\n",
       "      <th>A05492663T95KW63BR75K</th>\n",
       "      <th>A059547920Q3LZVFHLPI3</th>\n",
       "      <th>A07410232KYRFR25CIUGJ</th>\n",
       "      <th>A082796624UNM47DSAI6K</th>\n",
       "      <th>A0864963DOAY7LXGS5I6</th>\n",
       "      <th>...</th>\n",
       "      <th>AZW1HXXYAC15B</th>\n",
       "      <th>AZWRTJPN7NXT</th>\n",
       "      <th>AZWTXHXZXFAYP</th>\n",
       "      <th>AZYQEFB9Y5N22</th>\n",
       "      <th>AZZHB6U54UDYW</th>\n",
       "      <th>AZZHJZP4GQPPZ</th>\n",
       "      <th>AZZNK89PXD006</th>\n",
       "      <th>AZZOFVMQC0BJG</th>\n",
       "      <th>AZZQXL8VDCFTV</th>\n",
       "      <th>AZZTJQ7CQZUD8</th>\n",
       "    </tr>\n",
       "    <tr>\n",
       "      <th>Product_ID</th>\n",
       "      <th></th>\n",
       "      <th></th>\n",
       "      <th></th>\n",
       "      <th></th>\n",
       "      <th></th>\n",
       "      <th></th>\n",
       "      <th></th>\n",
       "      <th></th>\n",
       "      <th></th>\n",
       "      <th></th>\n",
       "      <th></th>\n",
       "      <th></th>\n",
       "      <th></th>\n",
       "      <th></th>\n",
       "      <th></th>\n",
       "      <th></th>\n",
       "      <th></th>\n",
       "      <th></th>\n",
       "      <th></th>\n",
       "      <th></th>\n",
       "      <th></th>\n",
       "    </tr>\n",
       "  </thead>\n",
       "  <tbody>\n",
       "    <tr>\n",
       "      <th>0205616461</th>\n",
       "      <td>0</td>\n",
       "      <td>0</td>\n",
       "      <td>0</td>\n",
       "      <td>0</td>\n",
       "      <td>0</td>\n",
       "      <td>0</td>\n",
       "      <td>0</td>\n",
       "      <td>0</td>\n",
       "      <td>0</td>\n",
       "      <td>0</td>\n",
       "      <td>...</td>\n",
       "      <td>0</td>\n",
       "      <td>0</td>\n",
       "      <td>0</td>\n",
       "      <td>0</td>\n",
       "      <td>0</td>\n",
       "      <td>0</td>\n",
       "      <td>0</td>\n",
       "      <td>0</td>\n",
       "      <td>0</td>\n",
       "      <td>0</td>\n",
       "    </tr>\n",
       "    <tr>\n",
       "      <th>0558925278</th>\n",
       "      <td>0</td>\n",
       "      <td>0</td>\n",
       "      <td>0</td>\n",
       "      <td>0</td>\n",
       "      <td>0</td>\n",
       "      <td>0</td>\n",
       "      <td>0</td>\n",
       "      <td>0</td>\n",
       "      <td>0</td>\n",
       "      <td>0</td>\n",
       "      <td>...</td>\n",
       "      <td>0</td>\n",
       "      <td>0</td>\n",
       "      <td>0</td>\n",
       "      <td>0</td>\n",
       "      <td>0</td>\n",
       "      <td>0</td>\n",
       "      <td>0</td>\n",
       "      <td>0</td>\n",
       "      <td>0</td>\n",
       "      <td>0</td>\n",
       "    </tr>\n",
       "    <tr>\n",
       "      <th>0733001998</th>\n",
       "      <td>0</td>\n",
       "      <td>0</td>\n",
       "      <td>0</td>\n",
       "      <td>0</td>\n",
       "      <td>0</td>\n",
       "      <td>0</td>\n",
       "      <td>0</td>\n",
       "      <td>0</td>\n",
       "      <td>0</td>\n",
       "      <td>0</td>\n",
       "      <td>...</td>\n",
       "      <td>0</td>\n",
       "      <td>0</td>\n",
       "      <td>0</td>\n",
       "      <td>0</td>\n",
       "      <td>0</td>\n",
       "      <td>0</td>\n",
       "      <td>0</td>\n",
       "      <td>0</td>\n",
       "      <td>0</td>\n",
       "      <td>0</td>\n",
       "    </tr>\n",
       "    <tr>\n",
       "      <th>0737104473</th>\n",
       "      <td>0</td>\n",
       "      <td>0</td>\n",
       "      <td>0</td>\n",
       "      <td>0</td>\n",
       "      <td>0</td>\n",
       "      <td>0</td>\n",
       "      <td>0</td>\n",
       "      <td>0</td>\n",
       "      <td>0</td>\n",
       "      <td>0</td>\n",
       "      <td>...</td>\n",
       "      <td>0</td>\n",
       "      <td>0</td>\n",
       "      <td>0</td>\n",
       "      <td>0</td>\n",
       "      <td>0</td>\n",
       "      <td>0</td>\n",
       "      <td>0</td>\n",
       "      <td>0</td>\n",
       "      <td>0</td>\n",
       "      <td>0</td>\n",
       "    </tr>\n",
       "    <tr>\n",
       "      <th>0762451459</th>\n",
       "      <td>0</td>\n",
       "      <td>0</td>\n",
       "      <td>0</td>\n",
       "      <td>0</td>\n",
       "      <td>0</td>\n",
       "      <td>0</td>\n",
       "      <td>0</td>\n",
       "      <td>0</td>\n",
       "      <td>0</td>\n",
       "      <td>0</td>\n",
       "      <td>...</td>\n",
       "      <td>0</td>\n",
       "      <td>0</td>\n",
       "      <td>0</td>\n",
       "      <td>0</td>\n",
       "      <td>0</td>\n",
       "      <td>0</td>\n",
       "      <td>0</td>\n",
       "      <td>0</td>\n",
       "      <td>0</td>\n",
       "      <td>0</td>\n",
       "    </tr>\n",
       "  </tbody>\n",
       "</table>\n",
       "<p>5 rows × 9697 columns</p>\n",
       "</div>"
      ],
      "text/plain": [
       "User_ID     A00205921JHJK5X9LNP42  A024581134CV80ZBLIZTZ  \\\n",
       "Product_ID                                                 \n",
       "0205616461                      0                      0   \n",
       "0558925278                      0                      0   \n",
       "0733001998                      0                      0   \n",
       "0737104473                      0                      0   \n",
       "0762451459                      0                      0   \n",
       "\n",
       "User_ID     A03056581JJIOL5FSKJY7  A03099101ZRK4K607JVHH  \\\n",
       "Product_ID                                                 \n",
       "0205616461                      0                      0   \n",
       "0558925278                      0                      0   \n",
       "0733001998                      0                      0   \n",
       "0737104473                      0                      0   \n",
       "0762451459                      0                      0   \n",
       "\n",
       "User_ID     A0505229A7NSH3FRXRR4  A05492663T95KW63BR75K  \\\n",
       "Product_ID                                                \n",
       "0205616461                     0                      0   \n",
       "0558925278                     0                      0   \n",
       "0733001998                     0                      0   \n",
       "0737104473                     0                      0   \n",
       "0762451459                     0                      0   \n",
       "\n",
       "User_ID     A059547920Q3LZVFHLPI3  A07410232KYRFR25CIUGJ  \\\n",
       "Product_ID                                                 \n",
       "0205616461                      0                      0   \n",
       "0558925278                      0                      0   \n",
       "0733001998                      0                      0   \n",
       "0737104473                      0                      0   \n",
       "0762451459                      0                      0   \n",
       "\n",
       "User_ID     A082796624UNM47DSAI6K  A0864963DOAY7LXGS5I6  ...  AZW1HXXYAC15B  \\\n",
       "Product_ID                                               ...                  \n",
       "0205616461                      0                     0  ...              0   \n",
       "0558925278                      0                     0  ...              0   \n",
       "0733001998                      0                     0  ...              0   \n",
       "0737104473                      0                     0  ...              0   \n",
       "0762451459                      0                     0  ...              0   \n",
       "\n",
       "User_ID     AZWRTJPN7NXT  AZWTXHXZXFAYP  AZYQEFB9Y5N22  AZZHB6U54UDYW  \\\n",
       "Product_ID                                                              \n",
       "0205616461             0              0              0              0   \n",
       "0558925278             0              0              0              0   \n",
       "0733001998             0              0              0              0   \n",
       "0737104473             0              0              0              0   \n",
       "0762451459             0              0              0              0   \n",
       "\n",
       "User_ID     AZZHJZP4GQPPZ  AZZNK89PXD006  AZZOFVMQC0BJG  AZZQXL8VDCFTV  \\\n",
       "Product_ID                                                               \n",
       "0205616461              0              0              0              0   \n",
       "0558925278              0              0              0              0   \n",
       "0733001998              0              0              0              0   \n",
       "0737104473              0              0              0              0   \n",
       "0762451459              0              0              0              0   \n",
       "\n",
       "User_ID     AZZTJQ7CQZUD8  \n",
       "Product_ID                 \n",
       "0205616461              0  \n",
       "0558925278              0  \n",
       "0733001998              0  \n",
       "0737104473              0  \n",
       "0762451459              0  \n",
       "\n",
       "[5 rows x 9697 columns]"
      ]
     },
     "execution_count": 255,
     "metadata": {},
     "output_type": "execute_result"
    }
   ],
   "source": [
    "# Matrix transpose\n",
    "X = ratings_matrix.T\n",
    "X.head()"
   ]
  },
  {
   "cell_type": "code",
   "execution_count": 256,
   "metadata": {},
   "outputs": [
    {
     "data": {
      "text/plain": [
       "array([[ 6.10560387e-16,  9.91382534e-15, -1.09829324e-13, ...,\n",
       "         8.39933874e-13, -2.21837552e-12,  1.04222243e-12],\n",
       "       [-1.67613934e-14, -1.50170934e-13,  7.40630567e-13, ...,\n",
       "        -4.29861324e-12, -1.06520839e-11,  3.56532199e-11],\n",
       "       [ 7.81575944e-17, -5.14843293e-15, -5.11699703e-15, ...,\n",
       "         1.24442860e-16, -1.17976749e-13,  7.95234951e-14],\n",
       "       ...,\n",
       "       [ 3.44716725e-06,  2.27949597e-01, -1.04126429e-02, ...,\n",
       "        -3.72639399e-03,  4.70545054e-06, -4.94198276e-02],\n",
       "       [ 1.51468106e-06,  7.78319457e-04, -1.80435182e-04, ...,\n",
       "         8.56831997e-04, -8.94074640e-04, -3.44276267e-03],\n",
       "       [-5.95189623e-04,  4.21134964e-01,  3.61609178e-01, ...,\n",
       "        -1.22339016e-03, -1.11568882e-01,  8.98269134e-01]])"
      ]
     },
     "execution_count": 256,
     "metadata": {},
     "output_type": "execute_result"
    }
   ],
   "source": [
    "# Decomposing the matrix using TruncatedSVD, a dimensionality reduction technique.\n",
    "\n",
    "from sklearn.decomposition import TruncatedSVD\n",
    "\n",
    "SVD = TruncatedSVD(n_components=10) #n_component is desired dimension of output data\n",
    "decomposed_matrix = SVD.fit_transform(X)\n",
    "decomposed_matrix"
   ]
  },
  {
   "cell_type": "code",
   "execution_count": 257,
   "metadata": {},
   "outputs": [
    {
     "data": {
      "text/plain": [
       "(886, 10)"
      ]
     },
     "execution_count": 257,
     "metadata": {},
     "output_type": "execute_result"
    }
   ],
   "source": [
    "# checking the size of the decomposing matrix\n",
    "decomposed_matrix.shape"
   ]
  },
  {
   "cell_type": "code",
   "execution_count": 259,
   "metadata": {},
   "outputs": [
    {
     "data": {
      "text/plain": [
       "array([[ 1.        ,  0.62372014,  0.8636513 , ..., -0.04279071,\n",
       "        -0.19198839,  0.29431207],\n",
       "       [ 0.62372014,  1.        ,  0.77029695, ..., -0.24989651,\n",
       "        -0.69868122,  0.60409981],\n",
       "       [ 0.8636513 ,  0.77029695,  1.        , ..., -0.12031197,\n",
       "        -0.14244845,  0.6336985 ],\n",
       "       ...,\n",
       "       [-0.04279071, -0.24989651, -0.12031197, ...,  1.        ,\n",
       "         0.3341585 , -0.0398959 ],\n",
       "       [-0.19198839, -0.69868122, -0.14244845, ...,  0.3341585 ,\n",
       "         1.        , -0.0389761 ],\n",
       "       [ 0.29431207,  0.60409981,  0.6336985 , ..., -0.0398959 ,\n",
       "        -0.0389761 ,  1.        ]])"
      ]
     },
     "execution_count": 259,
     "metadata": {},
     "output_type": "execute_result"
    }
   ],
   "source": [
    "# returning the correlation matrix with correlation coefficient. \n",
    "\n",
    "correlation_matrix = np.corrcoef(decomposed_matrix)\n",
    "correlation_matrix"
   ]
  },
  {
   "cell_type": "code",
   "execution_count": 214,
   "metadata": {},
   "outputs": [
    {
     "data": {
      "text/html": [
       "<div>\n",
       "<style scoped>\n",
       "    .dataframe tbody tr th:only-of-type {\n",
       "        vertical-align: middle;\n",
       "    }\n",
       "\n",
       "    .dataframe tbody tr th {\n",
       "        vertical-align: top;\n",
       "    }\n",
       "\n",
       "    .dataframe thead th {\n",
       "        text-align: right;\n",
       "    }\n",
       "</style>\n",
       "<table border=\"1\" class=\"dataframe\">\n",
       "  <thead>\n",
       "    <tr style=\"text-align: right;\">\n",
       "      <th></th>\n",
       "      <th>Product_ID</th>\n",
       "      <th>Rating</th>\n",
       "    </tr>\n",
       "  </thead>\n",
       "  <tbody>\n",
       "    <tr>\n",
       "      <th>0</th>\n",
       "      <td>0558925278</td>\n",
       "      <td>3.0</td>\n",
       "    </tr>\n",
       "    <tr>\n",
       "      <th>1</th>\n",
       "      <td>0733001998</td>\n",
       "      <td>4.0</td>\n",
       "    </tr>\n",
       "    <tr>\n",
       "      <th>2</th>\n",
       "      <td>0737104473</td>\n",
       "      <td>1.0</td>\n",
       "    </tr>\n",
       "    <tr>\n",
       "      <th>3</th>\n",
       "      <td>0762451459</td>\n",
       "      <td>5.0</td>\n",
       "    </tr>\n",
       "    <tr>\n",
       "      <th>4</th>\n",
       "      <td>1304139220</td>\n",
       "      <td>5.0</td>\n",
       "    </tr>\n",
       "  </tbody>\n",
       "</table>\n",
       "</div>"
      ],
      "text/plain": [
       "   Product_ID  Rating\n",
       "0  0558925278     3.0\n",
       "1  0733001998     4.0\n",
       "2  0737104473     1.0\n",
       "3  0762451459     5.0\n",
       "4  1304139220     5.0"
      ]
     },
     "execution_count": 214,
     "metadata": {},
     "output_type": "execute_result"
    }
   ],
   "source": [
    "# grouping the train data\n",
    "group_train_data = train_data.groupby('Product_ID').mean().reset_index()\n",
    "group_train_data.head()"
   ]
  },
  {
   "cell_type": "code",
   "execution_count": 260,
   "metadata": {},
   "outputs": [
    {
     "data": {
      "text/plain": [
       "(886, 886)"
      ]
     },
     "execution_count": 260,
     "metadata": {},
     "output_type": "execute_result"
    }
   ],
   "source": [
    "# checking the size of the correlation matrix\n",
    "correlation_matrix.shape"
   ]
  },
  {
   "cell_type": "code",
   "execution_count": 216,
   "metadata": {},
   "outputs": [
    {
     "data": {
      "text/html": [
       "<div>\n",
       "<style scoped>\n",
       "    .dataframe tbody tr th:only-of-type {\n",
       "        vertical-align: middle;\n",
       "    }\n",
       "\n",
       "    .dataframe tbody tr th {\n",
       "        vertical-align: top;\n",
       "    }\n",
       "\n",
       "    .dataframe thead th {\n",
       "        text-align: right;\n",
       "    }\n",
       "</style>\n",
       "<table border=\"1\" class=\"dataframe\">\n",
       "  <thead>\n",
       "    <tr style=\"text-align: right;\">\n",
       "      <th></th>\n",
       "      <th>Product_ID</th>\n",
       "      <th>Rating</th>\n",
       "    </tr>\n",
       "  </thead>\n",
       "  <tbody>\n",
       "    <tr>\n",
       "      <th>226740</th>\n",
       "      <td>B00LU0LTOU</td>\n",
       "      <td>5.0</td>\n",
       "    </tr>\n",
       "    <tr>\n",
       "      <th>226739</th>\n",
       "      <td>B00LPVG6V0</td>\n",
       "      <td>5.0</td>\n",
       "    </tr>\n",
       "    <tr>\n",
       "      <th>226738</th>\n",
       "      <td>B00LP2YB8E</td>\n",
       "      <td>5.0</td>\n",
       "    </tr>\n",
       "    <tr>\n",
       "      <th>226737</th>\n",
       "      <td>B00LOS7MEE</td>\n",
       "      <td>5.0</td>\n",
       "    </tr>\n",
       "    <tr>\n",
       "      <th>226736</th>\n",
       "      <td>B00LORWRJA</td>\n",
       "      <td>5.0</td>\n",
       "    </tr>\n",
       "  </tbody>\n",
       "</table>\n",
       "</div>"
      ],
      "text/plain": [
       "        Product_ID  Rating\n",
       "226740  B00LU0LTOU     5.0\n",
       "226739  B00LPVG6V0     5.0\n",
       "226738  B00LP2YB8E     5.0\n",
       "226737  B00LOS7MEE     5.0\n",
       "226736  B00LORWRJA     5.0"
      ]
     },
     "execution_count": 216,
     "metadata": {},
     "output_type": "execute_result"
    }
   ],
   "source": [
    "# sorting the train data\n",
    "sort_train_data = group_train_data.sort_values(['Rating', 'Product_ID'], ascending=False)\n",
    "sort_train_data.head()"
   ]
  },
  {
   "cell_type": "code",
   "execution_count": 279,
   "metadata": {},
   "outputs": [
    {
     "data": {
      "text/plain": [
       "481"
      ]
     },
     "execution_count": 279,
     "metadata": {},
     "output_type": "execute_result"
    }
   ],
   "source": [
    "# random index selection\n",
    "import random\n",
    "i = random.randint(0,correlation_matrix.shape[0])\n",
    "i"
   ]
  },
  {
   "cell_type": "code",
   "execution_count": 280,
   "metadata": {},
   "outputs": [
    {
     "data": {
      "text/plain": [
       "'9790792220'"
      ]
     },
     "execution_count": 280,
     "metadata": {},
     "output_type": "execute_result"
    }
   ],
   "source": [
    "# the Product ID of the item the customer bought\n",
    "product_ID = X.index[i]\n",
    "product_ID"
   ]
  },
  {
   "cell_type": "markdown",
   "metadata": {},
   "source": [
    "                                                        Inference\n",
    "\n",
    "The Product ID of the product the customer bought is 9790792220\n"
   ]
  },
  {
   "cell_type": "code",
   "execution_count": 281,
   "metadata": {},
   "outputs": [
    {
     "data": {
      "text/plain": [
       "array([ 1.81118979e-01, -6.40145930e-01, -1.99241788e-01, -6.87605809e-01,\n",
       "        5.90108070e-01, -8.02189987e-01, -8.34374084e-01, -7.98432283e-01,\n",
       "       -8.02067716e-01, -4.61851126e-01, -8.34374084e-01, -4.87658637e-01,\n",
       "       -8.35573310e-01, -8.10158790e-01, -8.02189987e-01, -8.34374084e-01,\n",
       "       -8.34374084e-01, -5.32440635e-01, -8.35573437e-01, -7.62852076e-01,\n",
       "       -6.44267349e-01, -7.81922483e-01, -8.39495167e-01, -4.92270894e-01,\n",
       "       -6.33120381e-01, -6.93453556e-01, -6.85707820e-01, -8.32059113e-01,\n",
       "       -4.92270894e-01, -7.02200194e-01, -7.02715986e-01, -8.02135300e-01,\n",
       "       -8.06668363e-01, -6.93863383e-01, -4.88463577e-01, -8.02189987e-01,\n",
       "       -6.93863383e-01,  7.31088768e-01, -8.01955097e-01, -8.30542198e-01,\n",
       "       -8.30591610e-01, -6.93453556e-01, -8.02320662e-01, -8.02189987e-01,\n",
       "       -8.02189987e-01, -8.02189987e-01, -4.92270894e-01, -8.02189987e-01,\n",
       "       -8.02093840e-01, -8.30542198e-01, -9.33443119e-01, -9.93305088e-01,\n",
       "       -3.65170509e-01,  9.44393858e-01,  2.42147346e-01,  7.39650363e-01,\n",
       "       -5.10344753e-01,  8.68098662e-01,  8.41921071e-01,  1.05583044e-01,\n",
       "        7.46867142e-01,  8.98784900e-01, -7.50205157e-02, -8.27026275e-01,\n",
       "       -9.11446561e-01,  6.87428490e-01,  4.90027365e-01, -1.86147423e-01,\n",
       "        4.91503040e-02,  3.72039360e-02, -9.24346630e-01,  1.30946056e-01,\n",
       "        3.22898001e-02, -8.32806719e-01, -9.59629166e-01,  6.86187180e-01,\n",
       "       -7.80237248e-01,  7.35965703e-01,  7.69357925e-01,  9.53195713e-02,\n",
       "       -4.71419580e-02,  7.93572098e-01,  4.14556176e-01, -4.18275110e-01,\n",
       "       -8.60971656e-01,  8.03378862e-01,  1.03208990e-02,  8.45489701e-02,\n",
       "        7.28426803e-01,  4.27354090e-01, -6.27110613e-01,  6.11852003e-02,\n",
       "       -1.36793651e-02,  8.10944056e-01,  6.36645637e-01,  3.17199389e-01,\n",
       "        3.08078121e-01,  3.10007007e-01, -2.05791848e-01,  9.42053799e-01,\n",
       "        1.73096762e-01,  5.63630189e-01, -2.77246460e-01,  2.22097818e-01,\n",
       "        8.61051826e-01,  8.32699220e-01, -8.72280650e-01, -1.35836362e-01,\n",
       "        5.95620397e-01, -5.93068762e-01,  7.70836254e-01, -9.41520984e-01,\n",
       "       -5.95216358e-01, -7.55945120e-01, -4.24233734e-01, -5.82912455e-01,\n",
       "       -8.13160814e-01, -2.20307667e-01,  7.16506907e-01,  3.27351030e-01,\n",
       "        2.71394526e-01,  9.49865755e-01,  4.85744164e-01, -7.70088734e-01,\n",
       "        8.94475660e-01,  4.78955711e-01,  2.62968722e-02,  5.34097415e-02,\n",
       "        5.54650470e-01, -4.00205830e-01,  6.08524730e-02, -5.55411725e-01,\n",
       "        7.04329410e-01, -8.28098735e-01,  5.30717235e-01, -6.45128589e-01,\n",
       "        9.23531739e-01, -5.95781669e-01,  6.57464949e-01,  7.18602946e-01,\n",
       "        4.18306747e-01,  9.44855790e-01,  8.68872642e-01, -3.24411350e-01,\n",
       "        5.79286858e-01,  8.14588797e-01, -8.89230311e-01, -6.81182808e-01,\n",
       "        3.73605679e-01, -7.85085318e-01, -8.78088500e-01,  3.66015098e-01,\n",
       "       -8.55268675e-01,  8.56122563e-01,  7.56073535e-01, -9.20443260e-01,\n",
       "       -2.63590911e-01, -9.03161524e-01,  7.10061879e-01, -4.59549014e-02,\n",
       "        1.79599751e-01, -7.80663417e-01,  9.70433457e-01,  4.43264886e-01,\n",
       "       -5.38796908e-01, -5.28185062e-01,  7.59942685e-02,  1.09733372e-01,\n",
       "        2.49507000e-01, -4.93573752e-01, -4.66852083e-02,  9.66074145e-01,\n",
       "        7.34710387e-01, -2.13683071e-01, -7.34029375e-01,  8.20661429e-01,\n",
       "       -9.60399571e-01, -5.08550547e-01, -3.22779514e-01,  4.94812883e-01,\n",
       "        8.92308765e-01, -7.90760317e-01,  8.06382584e-01, -4.14700228e-01,\n",
       "        7.89210413e-01, -2.81092062e-01, -5.57386701e-01, -9.34935660e-01,\n",
       "       -8.11435570e-01,  2.01796728e-01, -5.74261183e-01, -8.69815284e-01,\n",
       "        4.03117441e-01, -8.51728783e-01,  9.40182235e-01,  5.25826556e-01,\n",
       "       -8.31208944e-01, -8.27082561e-01, -5.19455660e-01,  3.15400221e-01,\n",
       "       -9.18712320e-01,  7.89210419e-01, -1.73673585e-01,  7.29768583e-01,\n",
       "       -1.51815358e-01,  8.44669227e-01, -3.34352453e-01,  6.71840715e-01,\n",
       "        7.28216118e-01,  3.55006223e-01,  5.43762996e-02,  4.87451724e-02,\n",
       "        5.75278990e-01, -7.83601198e-01,  3.86178008e-01, -5.88753061e-02,\n",
       "        7.41421386e-01, -5.53822268e-01,  6.51700543e-01, -5.82202301e-01,\n",
       "       -6.13252100e-01, -4.90571444e-01, -3.24548684e-01,  2.55950736e-01,\n",
       "        6.13850838e-01,  9.44934625e-01,  9.73459898e-01,  6.66265213e-01,\n",
       "        9.28691078e-01,  2.50361898e-01, -7.78371674e-01,  3.94323640e-01,\n",
       "       -7.34020290e-01, -8.09747473e-01, -5.36493819e-01,  8.54909079e-01,\n",
       "       -6.64787688e-01,  6.14213748e-01,  4.33900320e-01, -7.33367173e-01,\n",
       "       -9.15395783e-01, -4.66073053e-01, -9.02827145e-01, -5.57185008e-01,\n",
       "       -1.21195624e-01,  7.19076008e-01, -7.39861555e-01,  1.02720494e-01,\n",
       "        3.29706626e-01, -8.04736818e-01, -4.56619855e-01,  9.16346574e-01,\n",
       "        4.49605544e-01,  7.35103327e-01,  6.30862482e-01, -5.34167802e-01,\n",
       "        7.87138653e-01, -8.71222202e-01, -8.07663863e-01, -5.78754900e-01,\n",
       "        6.43421031e-01,  5.44055367e-01,  9.70838759e-01,  5.51526529e-01,\n",
       "        3.45852478e-01,  6.77551481e-01, -6.25038327e-01,  8.77625065e-01,\n",
       "       -8.81794910e-01,  5.72623538e-01, -9.62878972e-01,  5.67401141e-01,\n",
       "       -1.34807975e-01,  7.52542264e-01, -7.30390311e-01,  3.77174442e-01,\n",
       "        6.36578588e-01,  1.57660756e-01, -8.05356589e-01,  6.82970299e-01,\n",
       "        6.32935397e-01, -5.02794227e-01, -7.45842129e-01,  9.78637405e-01,\n",
       "        5.30992344e-01,  8.60757831e-01, -4.37634281e-01, -9.67339737e-01,\n",
       "        6.74361228e-01, -8.54175024e-01,  8.89680800e-01, -6.33257624e-01,\n",
       "        6.01961449e-01, -4.18142335e-01, -8.66258922e-01,  1.25943108e-01,\n",
       "        8.22017815e-01, -8.95338742e-01,  7.02556233e-01, -6.72254767e-01,\n",
       "        3.78407275e-01, -3.51616137e-01, -6.66368886e-01,  3.12727637e-01,\n",
       "       -7.78465966e-01,  8.47280333e-02, -4.76443154e-01,  3.28932751e-01,\n",
       "        9.18241738e-01, -8.32675992e-01, -5.50726827e-01, -8.61717720e-01,\n",
       "       -4.77420071e-01, -8.20417871e-01, -8.79951508e-01,  2.87209877e-01,\n",
       "       -8.77942790e-01,  9.20930980e-01,  3.23120228e-01,  9.45306391e-01,\n",
       "        8.60808514e-01, -6.34595105e-01, -6.68199584e-01,  9.38181783e-01,\n",
       "       -4.18906687e-01, -6.94636119e-01, -3.50783611e-01,  6.00851634e-01,\n",
       "        6.26441590e-01, -7.38496418e-01,  9.18051857e-01,  8.21001630e-01,\n",
       "       -5.86201900e-01,  3.27526024e-01,  2.59136801e-01, -4.50757664e-01,\n",
       "        5.99450873e-01,  3.58051148e-01, -5.83003305e-01,  6.02940402e-01,\n",
       "       -6.05981263e-01, -8.33236705e-01, -5.12743412e-01, -9.60472671e-01,\n",
       "        8.67469119e-01, -5.84188834e-01, -2.84990991e-01,  6.11828275e-01,\n",
       "        3.76480282e-01,  5.91859839e-01,  6.19714307e-01,  6.16102539e-01,\n",
       "       -1.07097708e-01, -3.32733102e-01, -3.05088622e-01,  8.70019687e-01,\n",
       "       -5.31293695e-01, -9.05222123e-01, -7.53076393e-01,  5.32265638e-01,\n",
       "       -5.26937533e-01, -5.03398949e-01, -4.67922583e-01, -9.25633941e-01,\n",
       "        9.80557154e-01,  8.58846216e-01, -1.98195262e-01,  4.56685386e-02,\n",
       "       -3.78285185e-01,  5.69794919e-01,  7.99464294e-01, -5.24194929e-01,\n",
       "        8.10407354e-01,  4.43161034e-01,  5.54615003e-01,  7.87614611e-01,\n",
       "       -3.87231638e-01,  4.42110885e-01, -1.37690650e-01, -4.30144267e-01,\n",
       "       -2.93653246e-01,  7.15591526e-01,  7.13381536e-01, -3.76996777e-01,\n",
       "       -6.25691535e-01,  9.55466927e-01, -9.44193853e-05,  7.58331461e-01,\n",
       "        7.75869513e-01, -4.34092074e-01,  4.77545507e-01,  6.16723502e-01,\n",
       "       -8.20482368e-01, -9.47272023e-02, -6.25038322e-01,  6.08968811e-01,\n",
       "        5.40092857e-01, -7.29925904e-01, -9.18737587e-01, -3.29874426e-02,\n",
       "       -3.17335009e-01, -8.39762274e-01, -8.28960573e-01, -7.46276760e-01,\n",
       "        7.37794179e-01,  8.83593684e-01,  5.96722085e-01,  8.06866026e-01,\n",
       "        9.65947456e-01,  6.40665557e-01,  1.50006627e-01, -1.65783543e-03,\n",
       "        2.04550031e-01, -6.17482050e-01,  4.36161706e-01,  2.04550031e-01,\n",
       "       -1.02578630e-01, -6.95087698e-01,  7.88815294e-01,  1.65136916e-01,\n",
       "       -8.70466379e-01,  3.43604091e-02,  9.53906345e-01, -6.84693512e-01,\n",
       "        6.20233232e-01, -8.11573593e-01,  6.96484431e-01,  9.70818895e-01,\n",
       "        4.69415167e-01,  9.42164120e-01,  7.23438629e-02, -4.99884298e-01,\n",
       "        6.70831617e-01,  6.56498221e-01,  7.53374099e-01, -4.68753249e-01,\n",
       "       -3.84938820e-01, -8.64650815e-01,  8.21729593e-01,  7.72930159e-02,\n",
       "        9.31344033e-01,  2.66907248e-01,  7.10554898e-01,  2.92006617e-01,\n",
       "       -3.16928889e-01,  9.39818354e-01, -7.04156351e-01, -8.82413937e-01,\n",
       "        8.86808212e-01,  2.14417064e-01,  2.20640959e-01, -4.65669812e-01,\n",
       "        3.89229962e-01, -6.37299976e-01,  8.11159812e-01, -9.36182906e-01,\n",
       "       -7.71764229e-01,  7.86472589e-01, -1.00322431e-02,  7.74630489e-01,\n",
       "       -3.04294787e-01,  9.21321855e-01,  6.39749150e-02,  7.58422449e-01,\n",
       "       -8.90527519e-01,  6.67719707e-01, -1.08267838e-02, -2.17798290e-01,\n",
       "        1.16619107e-01,  6.78543583e-01,  9.84958889e-01,  8.32061481e-01,\n",
       "        8.97416009e-01,  4.51952375e-01, -9.82144135e-01,  9.03492510e-01,\n",
       "       -9.61264999e-01,  7.06985821e-01,  6.35896534e-01, -1.85502435e-01,\n",
       "       -7.71866481e-01, -4.57693118e-01,  9.01150290e-01,  4.48822478e-01,\n",
       "       -2.56548894e-01,  2.24757646e-01, -3.26975395e-01, -8.69363802e-01,\n",
       "        5.32452468e-01,  7.39543595e-01,  8.49410842e-01, -5.59900188e-01,\n",
       "        8.64732030e-01, -6.92277823e-01,  8.72142043e-01, -1.54841318e-01,\n",
       "        6.94751219e-01,  6.11169279e-02, -7.93230165e-01,  9.71303459e-01,\n",
       "        7.40253089e-01,  2.05261328e-01, -9.66032927e-01,  6.82603141e-01,\n",
       "        8.63597344e-01, -6.94150513e-01, -6.94476925e-01,  6.41635175e-01,\n",
       "        8.41063140e-01,  2.98766816e-01, -8.87651578e-01, -8.31427139e-01,\n",
       "        4.47085111e-01, -4.44339415e-01,  7.50623673e-01, -2.10717164e-01,\n",
       "       -9.20933086e-01, -9.73015022e-01,  2.49090575e-01,  8.35413309e-01,\n",
       "        4.90872716e-01,  9.38167243e-01,  1.00000000e+00,  4.93538113e-01,\n",
       "       -7.54458871e-01,  8.24600685e-01,  9.69405956e-01, -9.49114375e-01,\n",
       "       -8.40724742e-01,  9.63539522e-01, -1.05205317e-01, -6.47129157e-01,\n",
       "        3.50247782e-01, -7.45818781e-01, -3.07774753e-01, -2.89137407e-01,\n",
       "       -8.77997904e-01, -8.89337148e-01,  8.19415172e-01,  1.57506613e-01,\n",
       "       -8.06094482e-01,  6.41512188e-01,  2.53409037e-01, -1.48477571e-01,\n",
       "        5.07828550e-01, -6.15100243e-01,  5.55808683e-01,  1.09966407e-01,\n",
       "        8.60269611e-01, -6.46959487e-01,  2.29332539e-01, -5.33119704e-01,\n",
       "       -8.49176539e-01, -6.92415119e-01, -5.18812854e-01,  8.82700537e-02,\n",
       "       -3.32374087e-01,  7.27533202e-01, -8.85867870e-01,  6.52966511e-01,\n",
       "        4.91480586e-01,  4.67132873e-01,  9.04925052e-01, -5.16752822e-01,\n",
       "        6.30288651e-01, -3.53704852e-01, -4.67493009e-01,  4.50401859e-01,\n",
       "        9.16774707e-01, -7.72649801e-01,  3.54363480e-01, -8.97918565e-01,\n",
       "       -5.10355885e-01,  8.41617187e-01, -9.00468013e-01,  3.92978597e-02,\n",
       "        4.06470188e-01,  3.85666770e-01,  3.93086245e-01, -6.44209482e-01,\n",
       "        5.00795144e-01, -5.25438888e-01,  6.92072676e-01,  4.09306017e-01,\n",
       "        6.65747653e-01,  5.83985016e-01, -1.86914737e-01,  5.55710770e-02,\n",
       "       -3.49586090e-01, -3.92681203e-01, -4.08560000e-01, -9.33517330e-01,\n",
       "       -6.64524690e-01, -4.60642889e-01,  3.31825711e-01,  8.63135072e-01,\n",
       "       -6.26786974e-01, -9.10478955e-01, -4.35589538e-01, -3.33229756e-01,\n",
       "       -8.92628764e-01, -8.68962366e-01, -2.64935286e-01,  7.93213371e-01,\n",
       "        1.69973955e-01,  7.30334341e-01,  6.70605428e-01, -5.64167621e-01,\n",
       "       -8.98814060e-01,  8.51222255e-01, -9.02151085e-01, -6.86772303e-01,\n",
       "        6.63634509e-01,  3.89735477e-01, -3.85608137e-01, -8.46987575e-01,\n",
       "        7.62314146e-01, -7.19935068e-01, -6.59162563e-01, -3.36377462e-01,\n",
       "       -8.72551072e-01,  5.22484872e-01, -6.28205919e-01,  7.04679889e-01,\n",
       "       -2.62197517e-01, -9.63732352e-01, -6.96569751e-01, -3.88629796e-01,\n",
       "       -5.70699382e-02, -8.68749761e-01, -6.17626499e-01, -7.85090341e-01,\n",
       "        7.26250975e-01,  6.41822525e-01,  9.49822946e-01,  7.00375849e-01,\n",
       "       -7.21691902e-01,  9.77756717e-02, -9.02383605e-01,  3.94873935e-01,\n",
       "       -5.77089803e-01,  4.96575630e-01, -9.34624801e-01, -9.34664017e-01,\n",
       "       -6.41651645e-01, -9.00910941e-01, -5.45632755e-01, -9.57951373e-01,\n",
       "        5.62202413e-01,  5.82948698e-01,  7.51899534e-01,  7.00081155e-02,\n",
       "        7.25344125e-01,  7.32524869e-01,  8.71815220e-01, -8.99036624e-01,\n",
       "       -6.42999924e-01, -2.89969006e-01, -4.89786978e-01, -3.63665666e-01,\n",
       "       -9.51775563e-01, -9.13454538e-01, -8.84815695e-01, -4.97564895e-01,\n",
       "        5.78261102e-01, -5.12697771e-01, -2.89969338e-01, -3.46807647e-01,\n",
       "        4.64056007e-01,  7.63571479e-01,  6.29107415e-01,  8.52789694e-01,\n",
       "        1.09441221e-01, -3.99559921e-02,  8.51933187e-01, -7.95438157e-01,\n",
       "       -7.76953724e-01, -4.24259983e-01, -6.63447605e-01,  3.13984337e-01,\n",
       "       -4.53007162e-01, -4.50258079e-01, -4.97564895e-01, -8.03607126e-01,\n",
       "       -7.91003363e-01, -1.20650395e-01,  5.02903800e-01, -6.70361809e-01,\n",
       "       -7.02532467e-01, -6.65425898e-01,  6.57672955e-01,  6.33889381e-01,\n",
       "       -9.46430953e-01, -6.76949485e-01,  6.98923678e-01, -7.91053575e-01,\n",
       "       -3.96550033e-01, -6.19164547e-01,  8.48522461e-01,  1.61308103e-01,\n",
       "        6.09389368e-01,  7.40596290e-01,  8.07903438e-01,  3.37424445e-01,\n",
       "        1.15376560e-01, -6.21322644e-01, -8.38978729e-01, -6.97635836e-02,\n",
       "        5.30593847e-01,  5.61097594e-01,  3.03656747e-01, -3.51579103e-01,\n",
       "       -8.30771907e-01,  8.18121680e-01, -2.43325334e-01,  3.25226151e-01,\n",
       "       -1.39587663e-01,  8.68352424e-01,  7.00373247e-01,  2.65400991e-02,\n",
       "        4.55177957e-01, -2.13023003e-01,  9.58214713e-02, -9.18150744e-01,\n",
       "        9.15047028e-01, -9.57918267e-01,  5.83761627e-01,  1.30333415e-01,\n",
       "        7.80108255e-01, -8.87711075e-02,  5.25826556e-01,  9.64783680e-02,\n",
       "        3.91669267e-01,  2.66992246e-02, -5.57013571e-02,  4.76085940e-01,\n",
       "        7.25099613e-01, -5.33063076e-01, -6.11277290e-01, -4.77137740e-01,\n",
       "        1.87150484e-01,  4.38629612e-01,  7.50724753e-01,  5.05058052e-01,\n",
       "       -8.68089680e-01, -9.62066102e-01,  5.74458729e-02, -1.92584087e-01,\n",
       "        5.14137301e-01,  5.14153920e-01,  5.43496816e-01, -2.05938602e-01,\n",
       "       -8.16938578e-01,  7.54830761e-01,  5.59961291e-02, -7.98745143e-02,\n",
       "        3.42187534e-03,  7.37130016e-01, -7.74682109e-01, -4.48194268e-01,\n",
       "        3.95134844e-01, -7.40455021e-01, -3.46368976e-01, -6.51550427e-01,\n",
       "        2.64082634e-01,  5.40885588e-01, -6.36580702e-01, -4.06562987e-01,\n",
       "        4.76348031e-01, -3.82846045e-01,  8.40876234e-01,  2.63296060e-02,\n",
       "        8.20457744e-01,  5.41451272e-01,  6.07427339e-02,  3.69573611e-01,\n",
       "        3.98036061e-02, -1.81476342e-01, -1.97406878e-01,  6.42947923e-01,\n",
       "       -7.91948818e-01, -9.50062710e-01,  7.46387243e-01, -6.56183968e-01,\n",
       "       -7.62720266e-01,  7.36164021e-01, -1.53935650e-02,  5.02093329e-01,\n",
       "        8.56231232e-02, -9.31959816e-01,  2.48787528e-01, -8.19221788e-01,\n",
       "       -7.98515093e-02, -6.28542707e-01, -3.55472879e-01,  2.86404474e-01,\n",
       "        8.13172357e-01,  1.41043670e-01, -6.66683022e-01, -4.53915106e-02,\n",
       "       -5.33895420e-01, -2.56269376e-01, -2.78343836e-01,  6.77965014e-02,\n",
       "       -1.90716006e-01, -2.88036848e-01, -2.90137261e-01, -8.08650077e-01,\n",
       "       -4.24846158e-01, -5.73363174e-01,  8.66469716e-01, -1.81613947e-01,\n",
       "        4.08944818e-02, -5.34581086e-01,  7.63925418e-01,  1.85849100e-01,\n",
       "       -1.39902243e-01, -1.72629725e-01, -7.44567882e-01, -8.13937842e-01,\n",
       "       -6.23519337e-01, -7.29762143e-02,  7.22705415e-01,  3.74106430e-01,\n",
       "        1.78854995e-01,  2.73333233e-01,  2.23152753e-01,  8.63001852e-01,\n",
       "        1.33450111e-01,  5.16885256e-01, -1.73012398e-01,  9.46132885e-01,\n",
       "       -6.56485936e-01, -7.00480193e-01,  1.67971275e-01, -2.44195153e-02,\n",
       "       -9.15595292e-01, -7.54763396e-01,  3.12174843e-01,  2.56577794e-01,\n",
       "        8.21324898e-01, -1.17342809e-01,  2.51267055e-02,  1.16164337e-01,\n",
       "       -6.38652340e-01,  2.82052116e-01,  2.71825769e-01, -5.64265359e-01,\n",
       "        2.80352818e-01,  6.40479244e-01, -2.05593009e-01, -3.74526709e-01,\n",
       "        1.16117536e-01,  9.27612485e-01,  8.87105952e-01, -9.74279236e-01,\n",
       "       -5.45572794e-01,  8.64130397e-01,  6.52469495e-01,  7.23450901e-01,\n",
       "       -8.29277600e-01, -1.90473245e-01, -1.90589462e-01,  9.54184866e-01,\n",
       "        8.54430229e-01, -1.86664335e-01,  2.54708363e-01,  7.59829758e-01,\n",
       "       -4.65296627e-01,  1.26397653e-01,  7.57691182e-01,  1.64656629e-01,\n",
       "       -8.62462455e-01,  1.16561782e-01, -9.82380390e-01, -1.31196339e-01,\n",
       "       -7.93175870e-01,  4.08628612e-01, -5.89037262e-01, -4.08393806e-01,\n",
       "        8.14278336e-01, -1.41100881e-01, -7.61538625e-01,  2.45473869e-01,\n",
       "        5.77126536e-01, -5.29103685e-01])"
      ]
     },
     "execution_count": 281,
     "metadata": {},
     "output_type": "execute_result"
    }
   ],
   "source": [
    "# The correlated product that is correlated to the product the customer bought\n",
    "correlation_Product_ID = correlation_matrix[i]\n",
    "\n",
    "correlation_Product_ID"
   ]
  },
  {
   "cell_type": "code",
   "execution_count": 283,
   "metadata": {},
   "outputs": [
    {
     "data": {
      "text/plain": [
       "['1457982633',\n",
       " '6117036094',\n",
       " '7899120217',\n",
       " '897677244X',\n",
       " '9509369934',\n",
       " '9742496811',\n",
       " '9748668525',\n",
       " '9788071813',\n",
       " '9788073484',\n",
       " '9788073492']"
      ]
     },
     "execution_count": 283,
     "metadata": {},
     "output_type": "execute_result"
    }
   ],
   "source": [
    "# Displaying Top 10 product by the recommendation system to other customers \n",
    "recommended_products = X.index[correlation_Product_ID > 0.90] \n",
    "recommended_products = list(recommended_products)\n",
    "\n",
    "#Top 10 Products recommended to the user based on the purchase done by user\n",
    "recommended_products[0:10]"
   ]
  },
  {
   "cell_type": "markdown",
   "metadata": {},
   "source": [
    "                                                    Inference\n",
    "\n",
    "The above operation shows the top 10 products to be displayed by the recommendation system to the above customer based on the buying history of other customers in the E-commerce site."
   ]
  },
  {
   "cell_type": "markdown",
   "metadata": {},
   "source": [
    "### Conclusion\n",
    "\n",
    "The Recommendation System are beneficial to both service providers and users. It works better for a business setting up its E-commerce site say for the first time and do not have a user-item, purchase/rating history to start with. This recommendation system helps the users get a good recommendation foundation to start and then once the customer have a buying history, the recommendation engine can then use the model based collaborative filtering technique. Another advantage of recommender systems is that they provide personalization for customers of e-commerce, promoting one-to-one marketing."
   ]
  },
  {
   "cell_type": "markdown",
   "metadata": {},
   "source": [
    "                                                         REFERENCES\n",
    "\n",
    "* Product Recommendation Engine -SajalSinha \n",
    "https://github.com/SajalSinha/ProductRecommendationEngine\n",
    "\n",
    "* Natural language processing in context of recommender systems -Andre Soblechero Salvado\n",
    "https://users.informatik.haw-hamburg.de/~ubicomp/projekte/master2020-proj/salvado.pdf\n",
    "\n",
    "* Introduction to Recommender Systems -Gastón Rodríguez\n",
    "https://tryolabs.com/blog/introduction-to-recommender-systems\n"
   ]
  }
 ],
 "metadata": {
  "interpreter": {
   "hash": "36f489e13c74a77fc4256c482d831fa0e743ce329dd4f63872156562f5ca8751"
  },
  "kernelspec": {
   "display_name": "Python 3.9.7 64-bit ('capstone_env': venv)",
   "language": "python",
   "name": "python3"
  },
  "language_info": {
   "codemirror_mode": {
    "name": "ipython",
    "version": 3
   },
   "file_extension": ".py",
   "mimetype": "text/x-python",
   "name": "python",
   "nbconvert_exporter": "python",
   "pygments_lexer": "ipython3",
   "version": "3.9.7"
  },
  "orig_nbformat": 4
 },
 "nbformat": 4,
 "nbformat_minor": 2
}
